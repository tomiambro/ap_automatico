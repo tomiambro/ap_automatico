{
 "cells": [
  {
   "cell_type": "markdown",
   "id": "546caa42",
   "metadata": {},
   "source": [
    "# Esto es una prueba"
   ]
  },
  {
   "cell_type": "code",
   "execution_count": 1,
   "id": "05646076",
   "metadata": {},
   "outputs": [],
   "source": [
    "import pandas as pd\n",
    "import numpy as np"
   ]
  }
 ],
 "metadata": {
  "kernelspec": {
   "display_name": "Python 3 (ipykernel)",
   "language": "python",
   "name": "python3"
  },
  "language_info": {
   "codemirror_mode": {
    "name": "ipython",
    "version": 3
   },
   "file_extension": ".py",
   "mimetype": "text/x-python",
   "name": "python",
   "nbconvert_exporter": "python",
   "pygments_lexer": "ipython3",
   "version": "3.7.10"
  }
 },
 "nbformat": 4,
 "nbformat_minor": 5
}
