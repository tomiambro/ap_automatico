{
  "nbformat": 4,
  "nbformat_minor": 0,
  "metadata": {
    "colab": {
      "name": "tp1.ipynb",
      "provenance": [],
      "collapsed_sections": [],
      "include_colab_link": true
    },
    "kernelspec": {
      "name": "python3",
      "display_name": "Python 3"
    },
    "language_info": {
      "name": "python"
    }
  },
  "cells": [
    {
      "cell_type": "markdown",
      "metadata": {
        "id": "view-in-github",
        "colab_type": "text"
      },
      "source": [
        "<a href=\"https://colab.research.google.com/github/tomiambro/ap_automatico/blob/tps-tomi/tp1.ipynb\" target=\"_parent\"><img src=\"https://colab.research.google.com/assets/colab-badge.svg\" alt=\"Open In Colab\"/></a>"
      ]
    },
    {
      "cell_type": "code",
      "metadata": {
        "colab": {
          "base_uri": "https://localhost:8080/"
        },
        "id": "f8yhUjNQu863",
        "outputId": "8b3fea42-4e8e-45ec-d655-aac0dff9b6a3"
      },
      "source": [
        "from google.colab import drive\n",
        "\n",
        "drive.mount('/content/gdrive')"
      ],
      "execution_count": 1,
      "outputs": [
        {
          "output_type": "stream",
          "name": "stdout",
          "text": [
            "Mounted at /content/gdrive\n"
          ]
        }
      ]
    },
    {
      "cell_type": "code",
      "metadata": {
        "id": "NPNGxG0wwct-"
      },
      "source": [
        "import numpy as np\n",
        "import pandas as pd\n",
        "%matplotlib inline\n",
        "import matplotlib.pyplot as plt\n",
        "import seaborn as sns\n",
        "import plotly.express as px\n",
        "\n",
        "from scipy.cluster import hierarchy as hc\n",
        "from sklearn.preprocessing import StandardScaler, PolynomialFeatures, MinMaxScaler\n",
        "from sklearn.decomposition import PCA\n",
        "\n",
        "#Otros \n",
        "import warnings\n",
        "warnings.filterwarnings('ignore')"
      ],
      "execution_count": 2,
      "outputs": []
    },
    {
      "cell_type": "markdown",
      "metadata": {
        "id": "JS7xYxAkyT24"
      },
      "source": [
        "## Descargar y descomprimir el dataset\n",
        "\n",
        "El archivo se va a descargar en el path 'root_path'"
      ]
    },
    {
      "cell_type": "code",
      "metadata": {
        "id": "lhxzL1Shyhr8"
      },
      "source": [
        "root_path = 'gdrive/MyDrive/machine_learning/ap_automatico'  # Modificar con el nombre de la carpeta donde vayas a bajar los datos"
      ],
      "execution_count": 3,
      "outputs": []
    },
    {
      "cell_type": "code",
      "metadata": {
        "id": "OiEM2TqAxOy6"
      },
      "source": [
        "# download dataset\n",
        "import requests\n",
        "from os.path import exists\n",
        "\n",
        "if not exists(f\"{root_path}/dataset.zip\"): \n",
        "  url = 'https://archive.ics.uci.edu/ml/machine-learning-databases/00222/bank.zip'\n",
        "  r = requests.get(url, allow_redirects=True)\n",
        "\n",
        "  open(f\"{root_path}/dataset.zip\", 'wb').write(r.content)"
      ],
      "execution_count": 4,
      "outputs": []
    },
    {
      "cell_type": "code",
      "metadata": {
        "id": "vVmbI-CBx9Pf"
      },
      "source": [
        "# unzip dataset\n",
        "\n",
        "if not exists(f\"{root_path}/dataset.zip\"): \n",
        "  import zipfile\n",
        "  with zipfile.ZipFile(f\"{root_path}/dataset.zip\", 'r') as zip_ref:\n",
        "      zip_ref.extractall(root_path)"
      ],
      "execution_count": 5,
      "outputs": []
    },
    {
      "cell_type": "markdown",
      "metadata": {
        "id": "3mDi0PjpyyFr"
      },
      "source": [
        "## Cargamos el dataset en un DataFrame"
      ]
    },
    {
      "cell_type": "code",
      "metadata": {
        "id": "jGmvT0BRy8sh"
      },
      "source": [
        "from sklearn.preprocessing import label_binarize"
      ],
      "execution_count": 6,
      "outputs": []
    },
    {
      "cell_type": "code",
      "metadata": {
        "colab": {
          "base_uri": "https://localhost:8080/",
          "height": 206
        },
        "id": "iev3-6rGy4KP",
        "outputId": "e53a1c97-4240-430b-f748-f7a81eab2b74"
      },
      "source": [
        "df_raw = pd.read_csv(f\"{root_path}/bank-full.csv\", delimiter=';')\n",
        "df_raw.tail(5)"
      ],
      "execution_count": 7,
      "outputs": [
        {
          "output_type": "execute_result",
          "data": {
            "text/html": [
              "<div>\n",
              "<style scoped>\n",
              "    .dataframe tbody tr th:only-of-type {\n",
              "        vertical-align: middle;\n",
              "    }\n",
              "\n",
              "    .dataframe tbody tr th {\n",
              "        vertical-align: top;\n",
              "    }\n",
              "\n",
              "    .dataframe thead th {\n",
              "        text-align: right;\n",
              "    }\n",
              "</style>\n",
              "<table border=\"1\" class=\"dataframe\">\n",
              "  <thead>\n",
              "    <tr style=\"text-align: right;\">\n",
              "      <th></th>\n",
              "      <th>age</th>\n",
              "      <th>job</th>\n",
              "      <th>marital</th>\n",
              "      <th>education</th>\n",
              "      <th>default</th>\n",
              "      <th>balance</th>\n",
              "      <th>housing</th>\n",
              "      <th>loan</th>\n",
              "      <th>contact</th>\n",
              "      <th>day</th>\n",
              "      <th>month</th>\n",
              "      <th>duration</th>\n",
              "      <th>campaign</th>\n",
              "      <th>pdays</th>\n",
              "      <th>previous</th>\n",
              "      <th>poutcome</th>\n",
              "      <th>y</th>\n",
              "    </tr>\n",
              "  </thead>\n",
              "  <tbody>\n",
              "    <tr>\n",
              "      <th>45206</th>\n",
              "      <td>51</td>\n",
              "      <td>technician</td>\n",
              "      <td>married</td>\n",
              "      <td>tertiary</td>\n",
              "      <td>no</td>\n",
              "      <td>825</td>\n",
              "      <td>no</td>\n",
              "      <td>no</td>\n",
              "      <td>cellular</td>\n",
              "      <td>17</td>\n",
              "      <td>nov</td>\n",
              "      <td>977</td>\n",
              "      <td>3</td>\n",
              "      <td>-1</td>\n",
              "      <td>0</td>\n",
              "      <td>unknown</td>\n",
              "      <td>yes</td>\n",
              "    </tr>\n",
              "    <tr>\n",
              "      <th>45207</th>\n",
              "      <td>71</td>\n",
              "      <td>retired</td>\n",
              "      <td>divorced</td>\n",
              "      <td>primary</td>\n",
              "      <td>no</td>\n",
              "      <td>1729</td>\n",
              "      <td>no</td>\n",
              "      <td>no</td>\n",
              "      <td>cellular</td>\n",
              "      <td>17</td>\n",
              "      <td>nov</td>\n",
              "      <td>456</td>\n",
              "      <td>2</td>\n",
              "      <td>-1</td>\n",
              "      <td>0</td>\n",
              "      <td>unknown</td>\n",
              "      <td>yes</td>\n",
              "    </tr>\n",
              "    <tr>\n",
              "      <th>45208</th>\n",
              "      <td>72</td>\n",
              "      <td>retired</td>\n",
              "      <td>married</td>\n",
              "      <td>secondary</td>\n",
              "      <td>no</td>\n",
              "      <td>5715</td>\n",
              "      <td>no</td>\n",
              "      <td>no</td>\n",
              "      <td>cellular</td>\n",
              "      <td>17</td>\n",
              "      <td>nov</td>\n",
              "      <td>1127</td>\n",
              "      <td>5</td>\n",
              "      <td>184</td>\n",
              "      <td>3</td>\n",
              "      <td>success</td>\n",
              "      <td>yes</td>\n",
              "    </tr>\n",
              "    <tr>\n",
              "      <th>45209</th>\n",
              "      <td>57</td>\n",
              "      <td>blue-collar</td>\n",
              "      <td>married</td>\n",
              "      <td>secondary</td>\n",
              "      <td>no</td>\n",
              "      <td>668</td>\n",
              "      <td>no</td>\n",
              "      <td>no</td>\n",
              "      <td>telephone</td>\n",
              "      <td>17</td>\n",
              "      <td>nov</td>\n",
              "      <td>508</td>\n",
              "      <td>4</td>\n",
              "      <td>-1</td>\n",
              "      <td>0</td>\n",
              "      <td>unknown</td>\n",
              "      <td>no</td>\n",
              "    </tr>\n",
              "    <tr>\n",
              "      <th>45210</th>\n",
              "      <td>37</td>\n",
              "      <td>entrepreneur</td>\n",
              "      <td>married</td>\n",
              "      <td>secondary</td>\n",
              "      <td>no</td>\n",
              "      <td>2971</td>\n",
              "      <td>no</td>\n",
              "      <td>no</td>\n",
              "      <td>cellular</td>\n",
              "      <td>17</td>\n",
              "      <td>nov</td>\n",
              "      <td>361</td>\n",
              "      <td>2</td>\n",
              "      <td>188</td>\n",
              "      <td>11</td>\n",
              "      <td>other</td>\n",
              "      <td>no</td>\n",
              "    </tr>\n",
              "  </tbody>\n",
              "</table>\n",
              "</div>"
            ],
            "text/plain": [
              "       age           job   marital  education  ... pdays  previous poutcome    y\n",
              "45206   51    technician   married   tertiary  ...    -1         0  unknown  yes\n",
              "45207   71       retired  divorced    primary  ...    -1         0  unknown  yes\n",
              "45208   72       retired   married  secondary  ...   184         3  success  yes\n",
              "45209   57   blue-collar   married  secondary  ...    -1         0  unknown   no\n",
              "45210   37  entrepreneur   married  secondary  ...   188        11    other   no\n",
              "\n",
              "[5 rows x 17 columns]"
            ]
          },
          "metadata": {},
          "execution_count": 7
        }
      ]
    },
    {
      "cell_type": "code",
      "metadata": {
        "colab": {
          "base_uri": "https://localhost:8080/",
          "height": 300
        },
        "id": "74KkkEIn9W2h",
        "outputId": "3d742281-9f0f-4fd1-e17b-835e1d146739"
      },
      "source": [
        "df_raw.describe()"
      ],
      "execution_count": 8,
      "outputs": [
        {
          "output_type": "execute_result",
          "data": {
            "text/html": [
              "<div>\n",
              "<style scoped>\n",
              "    .dataframe tbody tr th:only-of-type {\n",
              "        vertical-align: middle;\n",
              "    }\n",
              "\n",
              "    .dataframe tbody tr th {\n",
              "        vertical-align: top;\n",
              "    }\n",
              "\n",
              "    .dataframe thead th {\n",
              "        text-align: right;\n",
              "    }\n",
              "</style>\n",
              "<table border=\"1\" class=\"dataframe\">\n",
              "  <thead>\n",
              "    <tr style=\"text-align: right;\">\n",
              "      <th></th>\n",
              "      <th>age</th>\n",
              "      <th>balance</th>\n",
              "      <th>day</th>\n",
              "      <th>duration</th>\n",
              "      <th>campaign</th>\n",
              "      <th>pdays</th>\n",
              "      <th>previous</th>\n",
              "    </tr>\n",
              "  </thead>\n",
              "  <tbody>\n",
              "    <tr>\n",
              "      <th>count</th>\n",
              "      <td>45211.000000</td>\n",
              "      <td>45211.000000</td>\n",
              "      <td>45211.000000</td>\n",
              "      <td>45211.000000</td>\n",
              "      <td>45211.000000</td>\n",
              "      <td>45211.000000</td>\n",
              "      <td>45211.000000</td>\n",
              "    </tr>\n",
              "    <tr>\n",
              "      <th>mean</th>\n",
              "      <td>40.936210</td>\n",
              "      <td>1362.272058</td>\n",
              "      <td>15.806419</td>\n",
              "      <td>258.163080</td>\n",
              "      <td>2.763841</td>\n",
              "      <td>40.197828</td>\n",
              "      <td>0.580323</td>\n",
              "    </tr>\n",
              "    <tr>\n",
              "      <th>std</th>\n",
              "      <td>10.618762</td>\n",
              "      <td>3044.765829</td>\n",
              "      <td>8.322476</td>\n",
              "      <td>257.527812</td>\n",
              "      <td>3.098021</td>\n",
              "      <td>100.128746</td>\n",
              "      <td>2.303441</td>\n",
              "    </tr>\n",
              "    <tr>\n",
              "      <th>min</th>\n",
              "      <td>18.000000</td>\n",
              "      <td>-8019.000000</td>\n",
              "      <td>1.000000</td>\n",
              "      <td>0.000000</td>\n",
              "      <td>1.000000</td>\n",
              "      <td>-1.000000</td>\n",
              "      <td>0.000000</td>\n",
              "    </tr>\n",
              "    <tr>\n",
              "      <th>25%</th>\n",
              "      <td>33.000000</td>\n",
              "      <td>72.000000</td>\n",
              "      <td>8.000000</td>\n",
              "      <td>103.000000</td>\n",
              "      <td>1.000000</td>\n",
              "      <td>-1.000000</td>\n",
              "      <td>0.000000</td>\n",
              "    </tr>\n",
              "    <tr>\n",
              "      <th>50%</th>\n",
              "      <td>39.000000</td>\n",
              "      <td>448.000000</td>\n",
              "      <td>16.000000</td>\n",
              "      <td>180.000000</td>\n",
              "      <td>2.000000</td>\n",
              "      <td>-1.000000</td>\n",
              "      <td>0.000000</td>\n",
              "    </tr>\n",
              "    <tr>\n",
              "      <th>75%</th>\n",
              "      <td>48.000000</td>\n",
              "      <td>1428.000000</td>\n",
              "      <td>21.000000</td>\n",
              "      <td>319.000000</td>\n",
              "      <td>3.000000</td>\n",
              "      <td>-1.000000</td>\n",
              "      <td>0.000000</td>\n",
              "    </tr>\n",
              "    <tr>\n",
              "      <th>max</th>\n",
              "      <td>95.000000</td>\n",
              "      <td>102127.000000</td>\n",
              "      <td>31.000000</td>\n",
              "      <td>4918.000000</td>\n",
              "      <td>63.000000</td>\n",
              "      <td>871.000000</td>\n",
              "      <td>275.000000</td>\n",
              "    </tr>\n",
              "  </tbody>\n",
              "</table>\n",
              "</div>"
            ],
            "text/plain": [
              "                age        balance  ...         pdays      previous\n",
              "count  45211.000000   45211.000000  ...  45211.000000  45211.000000\n",
              "mean      40.936210    1362.272058  ...     40.197828      0.580323\n",
              "std       10.618762    3044.765829  ...    100.128746      2.303441\n",
              "min       18.000000   -8019.000000  ...     -1.000000      0.000000\n",
              "25%       33.000000      72.000000  ...     -1.000000      0.000000\n",
              "50%       39.000000     448.000000  ...     -1.000000      0.000000\n",
              "75%       48.000000    1428.000000  ...     -1.000000      0.000000\n",
              "max       95.000000  102127.000000  ...    871.000000    275.000000\n",
              "\n",
              "[8 rows x 7 columns]"
            ]
          },
          "metadata": {},
          "execution_count": 8
        }
      ]
    },
    {
      "cell_type": "markdown",
      "metadata": {
        "id": "X4VhacqA1yt1"
      },
      "source": [
        "### Revisamos que no falten datos"
      ]
    },
    {
      "cell_type": "code",
      "metadata": {
        "colab": {
          "base_uri": "https://localhost:8080/"
        },
        "id": "NcVY6ONZ1rGz",
        "outputId": "7eecec52-74a1-4335-f2ab-b469c5551a27"
      },
      "source": [
        "df_raw.isnull().sum()"
      ],
      "execution_count": 9,
      "outputs": [
        {
          "output_type": "execute_result",
          "data": {
            "text/plain": [
              "age          0\n",
              "job          0\n",
              "marital      0\n",
              "education    0\n",
              "default      0\n",
              "balance      0\n",
              "housing      0\n",
              "loan         0\n",
              "contact      0\n",
              "day          0\n",
              "month        0\n",
              "duration     0\n",
              "campaign     0\n",
              "pdays        0\n",
              "previous     0\n",
              "poutcome     0\n",
              "y            0\n",
              "dtype: int64"
            ]
          },
          "metadata": {},
          "execution_count": 9
        }
      ]
    },
    {
      "cell_type": "markdown",
      "metadata": {
        "id": "M2UskwQT23XQ"
      },
      "source": [
        "Descartamos la columna 'duration' segun lo especificado por las notas del dataset:\n",
        "\n",
        "'*duration: last contact duration, in seconds (numeric). Important note: this attribute highly affects the output target (e.g., if duration=0 then y='no'). Yet, the duration is not known before a call is performed. Also, after the end of the call y is obviously known. Thus, this input should only be included for benchmark purposes and should be discarded if the intention is to have a realistic predictive model.*'"
      ]
    },
    {
      "cell_type": "code",
      "metadata": {
        "colab": {
          "base_uri": "https://localhost:8080/",
          "height": 206
        },
        "id": "q8OpfjVI2034",
        "outputId": "43b64d23-c203-4258-e942-782c8f280df3"
      },
      "source": [
        "df = df_raw.drop('duration', axis=1)\n",
        "df.tail(5)"
      ],
      "execution_count": 10,
      "outputs": [
        {
          "output_type": "execute_result",
          "data": {
            "text/html": [
              "<div>\n",
              "<style scoped>\n",
              "    .dataframe tbody tr th:only-of-type {\n",
              "        vertical-align: middle;\n",
              "    }\n",
              "\n",
              "    .dataframe tbody tr th {\n",
              "        vertical-align: top;\n",
              "    }\n",
              "\n",
              "    .dataframe thead th {\n",
              "        text-align: right;\n",
              "    }\n",
              "</style>\n",
              "<table border=\"1\" class=\"dataframe\">\n",
              "  <thead>\n",
              "    <tr style=\"text-align: right;\">\n",
              "      <th></th>\n",
              "      <th>age</th>\n",
              "      <th>job</th>\n",
              "      <th>marital</th>\n",
              "      <th>education</th>\n",
              "      <th>default</th>\n",
              "      <th>balance</th>\n",
              "      <th>housing</th>\n",
              "      <th>loan</th>\n",
              "      <th>contact</th>\n",
              "      <th>day</th>\n",
              "      <th>month</th>\n",
              "      <th>campaign</th>\n",
              "      <th>pdays</th>\n",
              "      <th>previous</th>\n",
              "      <th>poutcome</th>\n",
              "      <th>y</th>\n",
              "    </tr>\n",
              "  </thead>\n",
              "  <tbody>\n",
              "    <tr>\n",
              "      <th>45206</th>\n",
              "      <td>51</td>\n",
              "      <td>technician</td>\n",
              "      <td>married</td>\n",
              "      <td>tertiary</td>\n",
              "      <td>no</td>\n",
              "      <td>825</td>\n",
              "      <td>no</td>\n",
              "      <td>no</td>\n",
              "      <td>cellular</td>\n",
              "      <td>17</td>\n",
              "      <td>nov</td>\n",
              "      <td>3</td>\n",
              "      <td>-1</td>\n",
              "      <td>0</td>\n",
              "      <td>unknown</td>\n",
              "      <td>yes</td>\n",
              "    </tr>\n",
              "    <tr>\n",
              "      <th>45207</th>\n",
              "      <td>71</td>\n",
              "      <td>retired</td>\n",
              "      <td>divorced</td>\n",
              "      <td>primary</td>\n",
              "      <td>no</td>\n",
              "      <td>1729</td>\n",
              "      <td>no</td>\n",
              "      <td>no</td>\n",
              "      <td>cellular</td>\n",
              "      <td>17</td>\n",
              "      <td>nov</td>\n",
              "      <td>2</td>\n",
              "      <td>-1</td>\n",
              "      <td>0</td>\n",
              "      <td>unknown</td>\n",
              "      <td>yes</td>\n",
              "    </tr>\n",
              "    <tr>\n",
              "      <th>45208</th>\n",
              "      <td>72</td>\n",
              "      <td>retired</td>\n",
              "      <td>married</td>\n",
              "      <td>secondary</td>\n",
              "      <td>no</td>\n",
              "      <td>5715</td>\n",
              "      <td>no</td>\n",
              "      <td>no</td>\n",
              "      <td>cellular</td>\n",
              "      <td>17</td>\n",
              "      <td>nov</td>\n",
              "      <td>5</td>\n",
              "      <td>184</td>\n",
              "      <td>3</td>\n",
              "      <td>success</td>\n",
              "      <td>yes</td>\n",
              "    </tr>\n",
              "    <tr>\n",
              "      <th>45209</th>\n",
              "      <td>57</td>\n",
              "      <td>blue-collar</td>\n",
              "      <td>married</td>\n",
              "      <td>secondary</td>\n",
              "      <td>no</td>\n",
              "      <td>668</td>\n",
              "      <td>no</td>\n",
              "      <td>no</td>\n",
              "      <td>telephone</td>\n",
              "      <td>17</td>\n",
              "      <td>nov</td>\n",
              "      <td>4</td>\n",
              "      <td>-1</td>\n",
              "      <td>0</td>\n",
              "      <td>unknown</td>\n",
              "      <td>no</td>\n",
              "    </tr>\n",
              "    <tr>\n",
              "      <th>45210</th>\n",
              "      <td>37</td>\n",
              "      <td>entrepreneur</td>\n",
              "      <td>married</td>\n",
              "      <td>secondary</td>\n",
              "      <td>no</td>\n",
              "      <td>2971</td>\n",
              "      <td>no</td>\n",
              "      <td>no</td>\n",
              "      <td>cellular</td>\n",
              "      <td>17</td>\n",
              "      <td>nov</td>\n",
              "      <td>2</td>\n",
              "      <td>188</td>\n",
              "      <td>11</td>\n",
              "      <td>other</td>\n",
              "      <td>no</td>\n",
              "    </tr>\n",
              "  </tbody>\n",
              "</table>\n",
              "</div>"
            ],
            "text/plain": [
              "       age           job   marital  education  ... pdays  previous poutcome    y\n",
              "45206   51    technician   married   tertiary  ...    -1         0  unknown  yes\n",
              "45207   71       retired  divorced    primary  ...    -1         0  unknown  yes\n",
              "45208   72       retired   married  secondary  ...   184         3  success  yes\n",
              "45209   57   blue-collar   married  secondary  ...    -1         0  unknown   no\n",
              "45210   37  entrepreneur   married  secondary  ...   188        11    other   no\n",
              "\n",
              "[5 rows x 16 columns]"
            ]
          },
          "metadata": {},
          "execution_count": 10
        }
      ]
    },
    {
      "cell_type": "markdown",
      "metadata": {
        "id": "fyMZpjaw14S1"
      },
      "source": [
        "### Pasamos las columnas que tienen datos categoricos a variables numericas"
      ]
    },
    {
      "cell_type": "code",
      "metadata": {
        "colab": {
          "base_uri": "https://localhost:8080/",
          "height": 206
        },
        "id": "T3HfdiEU0dXf",
        "outputId": "1bcbbaf9-c6d3-48ff-ed17-8fd6f4bf0c40"
      },
      "source": [
        "# Primero pasamos nuestra 'y'\n",
        "df.loc[:, 'y'] = label_binarize(df['y'], classes=['no', 'yes'])\n",
        "df.tail(5)"
      ],
      "execution_count": 11,
      "outputs": [
        {
          "output_type": "execute_result",
          "data": {
            "text/html": [
              "<div>\n",
              "<style scoped>\n",
              "    .dataframe tbody tr th:only-of-type {\n",
              "        vertical-align: middle;\n",
              "    }\n",
              "\n",
              "    .dataframe tbody tr th {\n",
              "        vertical-align: top;\n",
              "    }\n",
              "\n",
              "    .dataframe thead th {\n",
              "        text-align: right;\n",
              "    }\n",
              "</style>\n",
              "<table border=\"1\" class=\"dataframe\">\n",
              "  <thead>\n",
              "    <tr style=\"text-align: right;\">\n",
              "      <th></th>\n",
              "      <th>age</th>\n",
              "      <th>job</th>\n",
              "      <th>marital</th>\n",
              "      <th>education</th>\n",
              "      <th>default</th>\n",
              "      <th>balance</th>\n",
              "      <th>housing</th>\n",
              "      <th>loan</th>\n",
              "      <th>contact</th>\n",
              "      <th>day</th>\n",
              "      <th>month</th>\n",
              "      <th>campaign</th>\n",
              "      <th>pdays</th>\n",
              "      <th>previous</th>\n",
              "      <th>poutcome</th>\n",
              "      <th>y</th>\n",
              "    </tr>\n",
              "  </thead>\n",
              "  <tbody>\n",
              "    <tr>\n",
              "      <th>45206</th>\n",
              "      <td>51</td>\n",
              "      <td>technician</td>\n",
              "      <td>married</td>\n",
              "      <td>tertiary</td>\n",
              "      <td>no</td>\n",
              "      <td>825</td>\n",
              "      <td>no</td>\n",
              "      <td>no</td>\n",
              "      <td>cellular</td>\n",
              "      <td>17</td>\n",
              "      <td>nov</td>\n",
              "      <td>3</td>\n",
              "      <td>-1</td>\n",
              "      <td>0</td>\n",
              "      <td>unknown</td>\n",
              "      <td>1</td>\n",
              "    </tr>\n",
              "    <tr>\n",
              "      <th>45207</th>\n",
              "      <td>71</td>\n",
              "      <td>retired</td>\n",
              "      <td>divorced</td>\n",
              "      <td>primary</td>\n",
              "      <td>no</td>\n",
              "      <td>1729</td>\n",
              "      <td>no</td>\n",
              "      <td>no</td>\n",
              "      <td>cellular</td>\n",
              "      <td>17</td>\n",
              "      <td>nov</td>\n",
              "      <td>2</td>\n",
              "      <td>-1</td>\n",
              "      <td>0</td>\n",
              "      <td>unknown</td>\n",
              "      <td>1</td>\n",
              "    </tr>\n",
              "    <tr>\n",
              "      <th>45208</th>\n",
              "      <td>72</td>\n",
              "      <td>retired</td>\n",
              "      <td>married</td>\n",
              "      <td>secondary</td>\n",
              "      <td>no</td>\n",
              "      <td>5715</td>\n",
              "      <td>no</td>\n",
              "      <td>no</td>\n",
              "      <td>cellular</td>\n",
              "      <td>17</td>\n",
              "      <td>nov</td>\n",
              "      <td>5</td>\n",
              "      <td>184</td>\n",
              "      <td>3</td>\n",
              "      <td>success</td>\n",
              "      <td>1</td>\n",
              "    </tr>\n",
              "    <tr>\n",
              "      <th>45209</th>\n",
              "      <td>57</td>\n",
              "      <td>blue-collar</td>\n",
              "      <td>married</td>\n",
              "      <td>secondary</td>\n",
              "      <td>no</td>\n",
              "      <td>668</td>\n",
              "      <td>no</td>\n",
              "      <td>no</td>\n",
              "      <td>telephone</td>\n",
              "      <td>17</td>\n",
              "      <td>nov</td>\n",
              "      <td>4</td>\n",
              "      <td>-1</td>\n",
              "      <td>0</td>\n",
              "      <td>unknown</td>\n",
              "      <td>0</td>\n",
              "    </tr>\n",
              "    <tr>\n",
              "      <th>45210</th>\n",
              "      <td>37</td>\n",
              "      <td>entrepreneur</td>\n",
              "      <td>married</td>\n",
              "      <td>secondary</td>\n",
              "      <td>no</td>\n",
              "      <td>2971</td>\n",
              "      <td>no</td>\n",
              "      <td>no</td>\n",
              "      <td>cellular</td>\n",
              "      <td>17</td>\n",
              "      <td>nov</td>\n",
              "      <td>2</td>\n",
              "      <td>188</td>\n",
              "      <td>11</td>\n",
              "      <td>other</td>\n",
              "      <td>0</td>\n",
              "    </tr>\n",
              "  </tbody>\n",
              "</table>\n",
              "</div>"
            ],
            "text/plain": [
              "       age           job   marital  education  ... pdays  previous poutcome  y\n",
              "45206   51    technician   married   tertiary  ...    -1         0  unknown  1\n",
              "45207   71       retired  divorced    primary  ...    -1         0  unknown  1\n",
              "45208   72       retired   married  secondary  ...   184         3  success  1\n",
              "45209   57   blue-collar   married  secondary  ...    -1         0  unknown  0\n",
              "45210   37  entrepreneur   married  secondary  ...   188        11    other  0\n",
              "\n",
              "[5 rows x 16 columns]"
            ]
          },
          "metadata": {},
          "execution_count": 11
        }
      ]
    },
    {
      "cell_type": "code",
      "metadata": {
        "colab": {
          "base_uri": "https://localhost:8080/",
          "height": 605
        },
        "id": "3V7zV2Sk2Ady",
        "outputId": "9042d01a-6835-4e26-a95e-2e1bb77ccfcf"
      },
      "source": [
        "cat_cols = ['job', 'marital', 'education', 'default', 'housing', 'loan', 'contact', 'month', 'poutcome']\n",
        "\n",
        "for col in cat_cols:\n",
        "  print(col)\n",
        "  print(pd.Categorical(df[col]).categories)\n",
        "  df.loc[:, col] = pd.Categorical(df[col]).codes\n",
        "\n",
        "df.tail(5) "
      ],
      "execution_count": 12,
      "outputs": [
        {
          "output_type": "stream",
          "name": "stdout",
          "text": [
            "job\n",
            "Index(['admin.', 'blue-collar', 'entrepreneur', 'housemaid', 'management',\n",
            "       'retired', 'self-employed', 'services', 'student', 'technician',\n",
            "       'unemployed', 'unknown'],\n",
            "      dtype='object')\n",
            "marital\n",
            "Index(['divorced', 'married', 'single'], dtype='object')\n",
            "education\n",
            "Index(['primary', 'secondary', 'tertiary', 'unknown'], dtype='object')\n",
            "default\n",
            "Index(['no', 'yes'], dtype='object')\n",
            "housing\n",
            "Index(['no', 'yes'], dtype='object')\n",
            "loan\n",
            "Index(['no', 'yes'], dtype='object')\n",
            "contact\n",
            "Index(['cellular', 'telephone', 'unknown'], dtype='object')\n",
            "month\n",
            "Index(['apr', 'aug', 'dec', 'feb', 'jan', 'jul', 'jun', 'mar', 'may', 'nov',\n",
            "       'oct', 'sep'],\n",
            "      dtype='object')\n",
            "poutcome\n",
            "Index(['failure', 'other', 'success', 'unknown'], dtype='object')\n"
          ]
        },
        {
          "output_type": "execute_result",
          "data": {
            "text/html": [
              "<div>\n",
              "<style scoped>\n",
              "    .dataframe tbody tr th:only-of-type {\n",
              "        vertical-align: middle;\n",
              "    }\n",
              "\n",
              "    .dataframe tbody tr th {\n",
              "        vertical-align: top;\n",
              "    }\n",
              "\n",
              "    .dataframe thead th {\n",
              "        text-align: right;\n",
              "    }\n",
              "</style>\n",
              "<table border=\"1\" class=\"dataframe\">\n",
              "  <thead>\n",
              "    <tr style=\"text-align: right;\">\n",
              "      <th></th>\n",
              "      <th>age</th>\n",
              "      <th>job</th>\n",
              "      <th>marital</th>\n",
              "      <th>education</th>\n",
              "      <th>default</th>\n",
              "      <th>balance</th>\n",
              "      <th>housing</th>\n",
              "      <th>loan</th>\n",
              "      <th>contact</th>\n",
              "      <th>day</th>\n",
              "      <th>month</th>\n",
              "      <th>campaign</th>\n",
              "      <th>pdays</th>\n",
              "      <th>previous</th>\n",
              "      <th>poutcome</th>\n",
              "      <th>y</th>\n",
              "    </tr>\n",
              "  </thead>\n",
              "  <tbody>\n",
              "    <tr>\n",
              "      <th>45206</th>\n",
              "      <td>51</td>\n",
              "      <td>9</td>\n",
              "      <td>1</td>\n",
              "      <td>2</td>\n",
              "      <td>0</td>\n",
              "      <td>825</td>\n",
              "      <td>0</td>\n",
              "      <td>0</td>\n",
              "      <td>0</td>\n",
              "      <td>17</td>\n",
              "      <td>9</td>\n",
              "      <td>3</td>\n",
              "      <td>-1</td>\n",
              "      <td>0</td>\n",
              "      <td>3</td>\n",
              "      <td>1</td>\n",
              "    </tr>\n",
              "    <tr>\n",
              "      <th>45207</th>\n",
              "      <td>71</td>\n",
              "      <td>5</td>\n",
              "      <td>0</td>\n",
              "      <td>0</td>\n",
              "      <td>0</td>\n",
              "      <td>1729</td>\n",
              "      <td>0</td>\n",
              "      <td>0</td>\n",
              "      <td>0</td>\n",
              "      <td>17</td>\n",
              "      <td>9</td>\n",
              "      <td>2</td>\n",
              "      <td>-1</td>\n",
              "      <td>0</td>\n",
              "      <td>3</td>\n",
              "      <td>1</td>\n",
              "    </tr>\n",
              "    <tr>\n",
              "      <th>45208</th>\n",
              "      <td>72</td>\n",
              "      <td>5</td>\n",
              "      <td>1</td>\n",
              "      <td>1</td>\n",
              "      <td>0</td>\n",
              "      <td>5715</td>\n",
              "      <td>0</td>\n",
              "      <td>0</td>\n",
              "      <td>0</td>\n",
              "      <td>17</td>\n",
              "      <td>9</td>\n",
              "      <td>5</td>\n",
              "      <td>184</td>\n",
              "      <td>3</td>\n",
              "      <td>2</td>\n",
              "      <td>1</td>\n",
              "    </tr>\n",
              "    <tr>\n",
              "      <th>45209</th>\n",
              "      <td>57</td>\n",
              "      <td>1</td>\n",
              "      <td>1</td>\n",
              "      <td>1</td>\n",
              "      <td>0</td>\n",
              "      <td>668</td>\n",
              "      <td>0</td>\n",
              "      <td>0</td>\n",
              "      <td>1</td>\n",
              "      <td>17</td>\n",
              "      <td>9</td>\n",
              "      <td>4</td>\n",
              "      <td>-1</td>\n",
              "      <td>0</td>\n",
              "      <td>3</td>\n",
              "      <td>0</td>\n",
              "    </tr>\n",
              "    <tr>\n",
              "      <th>45210</th>\n",
              "      <td>37</td>\n",
              "      <td>2</td>\n",
              "      <td>1</td>\n",
              "      <td>1</td>\n",
              "      <td>0</td>\n",
              "      <td>2971</td>\n",
              "      <td>0</td>\n",
              "      <td>0</td>\n",
              "      <td>0</td>\n",
              "      <td>17</td>\n",
              "      <td>9</td>\n",
              "      <td>2</td>\n",
              "      <td>188</td>\n",
              "      <td>11</td>\n",
              "      <td>1</td>\n",
              "      <td>0</td>\n",
              "    </tr>\n",
              "  </tbody>\n",
              "</table>\n",
              "</div>"
            ],
            "text/plain": [
              "       age  job  marital  education  ...  pdays  previous  poutcome  y\n",
              "45206   51    9        1          2  ...     -1         0         3  1\n",
              "45207   71    5        0          0  ...     -1         0         3  1\n",
              "45208   72    5        1          1  ...    184         3         2  1\n",
              "45209   57    1        1          1  ...     -1         0         3  0\n",
              "45210   37    2        1          1  ...    188        11         1  0\n",
              "\n",
              "[5 rows x 16 columns]"
            ]
          },
          "metadata": {},
          "execution_count": 12
        }
      ]
    },
    {
      "cell_type": "code",
      "metadata": {
        "colab": {
          "base_uri": "https://localhost:8080/",
          "height": 320
        },
        "id": "kVcKOVAq9lUO",
        "outputId": "5b5b1fcd-7a07-46e0-955f-dfd797d9f5c1"
      },
      "source": [
        "df.describe()"
      ],
      "execution_count": 13,
      "outputs": [
        {
          "output_type": "execute_result",
          "data": {
            "text/html": [
              "<div>\n",
              "<style scoped>\n",
              "    .dataframe tbody tr th:only-of-type {\n",
              "        vertical-align: middle;\n",
              "    }\n",
              "\n",
              "    .dataframe tbody tr th {\n",
              "        vertical-align: top;\n",
              "    }\n",
              "\n",
              "    .dataframe thead th {\n",
              "        text-align: right;\n",
              "    }\n",
              "</style>\n",
              "<table border=\"1\" class=\"dataframe\">\n",
              "  <thead>\n",
              "    <tr style=\"text-align: right;\">\n",
              "      <th></th>\n",
              "      <th>age</th>\n",
              "      <th>job</th>\n",
              "      <th>marital</th>\n",
              "      <th>education</th>\n",
              "      <th>default</th>\n",
              "      <th>balance</th>\n",
              "      <th>housing</th>\n",
              "      <th>loan</th>\n",
              "      <th>contact</th>\n",
              "      <th>day</th>\n",
              "      <th>month</th>\n",
              "      <th>campaign</th>\n",
              "      <th>pdays</th>\n",
              "      <th>previous</th>\n",
              "      <th>poutcome</th>\n",
              "      <th>y</th>\n",
              "    </tr>\n",
              "  </thead>\n",
              "  <tbody>\n",
              "    <tr>\n",
              "      <th>count</th>\n",
              "      <td>45211.000000</td>\n",
              "      <td>45211.000000</td>\n",
              "      <td>45211.000000</td>\n",
              "      <td>45211.000000</td>\n",
              "      <td>45211.000000</td>\n",
              "      <td>45211.000000</td>\n",
              "      <td>45211.000000</td>\n",
              "      <td>45211.000000</td>\n",
              "      <td>45211.000000</td>\n",
              "      <td>45211.000000</td>\n",
              "      <td>45211.000000</td>\n",
              "      <td>45211.000000</td>\n",
              "      <td>45211.000000</td>\n",
              "      <td>45211.000000</td>\n",
              "      <td>45211.000000</td>\n",
              "      <td>45211.000000</td>\n",
              "    </tr>\n",
              "    <tr>\n",
              "      <th>mean</th>\n",
              "      <td>40.936210</td>\n",
              "      <td>4.339762</td>\n",
              "      <td>1.167725</td>\n",
              "      <td>1.224813</td>\n",
              "      <td>0.018027</td>\n",
              "      <td>1362.272058</td>\n",
              "      <td>0.555838</td>\n",
              "      <td>0.160226</td>\n",
              "      <td>0.640242</td>\n",
              "      <td>15.806419</td>\n",
              "      <td>5.523014</td>\n",
              "      <td>2.763841</td>\n",
              "      <td>40.197828</td>\n",
              "      <td>0.580323</td>\n",
              "      <td>2.559974</td>\n",
              "      <td>0.116985</td>\n",
              "    </tr>\n",
              "    <tr>\n",
              "      <th>std</th>\n",
              "      <td>10.618762</td>\n",
              "      <td>3.272657</td>\n",
              "      <td>0.608230</td>\n",
              "      <td>0.747997</td>\n",
              "      <td>0.133049</td>\n",
              "      <td>3044.765829</td>\n",
              "      <td>0.496878</td>\n",
              "      <td>0.366820</td>\n",
              "      <td>0.897951</td>\n",
              "      <td>8.322476</td>\n",
              "      <td>3.006911</td>\n",
              "      <td>3.098021</td>\n",
              "      <td>100.128746</td>\n",
              "      <td>2.303441</td>\n",
              "      <td>0.989059</td>\n",
              "      <td>0.321406</td>\n",
              "    </tr>\n",
              "    <tr>\n",
              "      <th>min</th>\n",
              "      <td>18.000000</td>\n",
              "      <td>0.000000</td>\n",
              "      <td>0.000000</td>\n",
              "      <td>0.000000</td>\n",
              "      <td>0.000000</td>\n",
              "      <td>-8019.000000</td>\n",
              "      <td>0.000000</td>\n",
              "      <td>0.000000</td>\n",
              "      <td>0.000000</td>\n",
              "      <td>1.000000</td>\n",
              "      <td>0.000000</td>\n",
              "      <td>1.000000</td>\n",
              "      <td>-1.000000</td>\n",
              "      <td>0.000000</td>\n",
              "      <td>0.000000</td>\n",
              "      <td>0.000000</td>\n",
              "    </tr>\n",
              "    <tr>\n",
              "      <th>25%</th>\n",
              "      <td>33.000000</td>\n",
              "      <td>1.000000</td>\n",
              "      <td>1.000000</td>\n",
              "      <td>1.000000</td>\n",
              "      <td>0.000000</td>\n",
              "      <td>72.000000</td>\n",
              "      <td>0.000000</td>\n",
              "      <td>0.000000</td>\n",
              "      <td>0.000000</td>\n",
              "      <td>8.000000</td>\n",
              "      <td>3.000000</td>\n",
              "      <td>1.000000</td>\n",
              "      <td>-1.000000</td>\n",
              "      <td>0.000000</td>\n",
              "      <td>3.000000</td>\n",
              "      <td>0.000000</td>\n",
              "    </tr>\n",
              "    <tr>\n",
              "      <th>50%</th>\n",
              "      <td>39.000000</td>\n",
              "      <td>4.000000</td>\n",
              "      <td>1.000000</td>\n",
              "      <td>1.000000</td>\n",
              "      <td>0.000000</td>\n",
              "      <td>448.000000</td>\n",
              "      <td>1.000000</td>\n",
              "      <td>0.000000</td>\n",
              "      <td>0.000000</td>\n",
              "      <td>16.000000</td>\n",
              "      <td>6.000000</td>\n",
              "      <td>2.000000</td>\n",
              "      <td>-1.000000</td>\n",
              "      <td>0.000000</td>\n",
              "      <td>3.000000</td>\n",
              "      <td>0.000000</td>\n",
              "    </tr>\n",
              "    <tr>\n",
              "      <th>75%</th>\n",
              "      <td>48.000000</td>\n",
              "      <td>7.000000</td>\n",
              "      <td>2.000000</td>\n",
              "      <td>2.000000</td>\n",
              "      <td>0.000000</td>\n",
              "      <td>1428.000000</td>\n",
              "      <td>1.000000</td>\n",
              "      <td>0.000000</td>\n",
              "      <td>2.000000</td>\n",
              "      <td>21.000000</td>\n",
              "      <td>8.000000</td>\n",
              "      <td>3.000000</td>\n",
              "      <td>-1.000000</td>\n",
              "      <td>0.000000</td>\n",
              "      <td>3.000000</td>\n",
              "      <td>0.000000</td>\n",
              "    </tr>\n",
              "    <tr>\n",
              "      <th>max</th>\n",
              "      <td>95.000000</td>\n",
              "      <td>11.000000</td>\n",
              "      <td>2.000000</td>\n",
              "      <td>3.000000</td>\n",
              "      <td>1.000000</td>\n",
              "      <td>102127.000000</td>\n",
              "      <td>1.000000</td>\n",
              "      <td>1.000000</td>\n",
              "      <td>2.000000</td>\n",
              "      <td>31.000000</td>\n",
              "      <td>11.000000</td>\n",
              "      <td>63.000000</td>\n",
              "      <td>871.000000</td>\n",
              "      <td>275.000000</td>\n",
              "      <td>3.000000</td>\n",
              "      <td>1.000000</td>\n",
              "    </tr>\n",
              "  </tbody>\n",
              "</table>\n",
              "</div>"
            ],
            "text/plain": [
              "                age           job  ...      poutcome             y\n",
              "count  45211.000000  45211.000000  ...  45211.000000  45211.000000\n",
              "mean      40.936210      4.339762  ...      2.559974      0.116985\n",
              "std       10.618762      3.272657  ...      0.989059      0.321406\n",
              "min       18.000000      0.000000  ...      0.000000      0.000000\n",
              "25%       33.000000      1.000000  ...      3.000000      0.000000\n",
              "50%       39.000000      4.000000  ...      3.000000      0.000000\n",
              "75%       48.000000      7.000000  ...      3.000000      0.000000\n",
              "max       95.000000     11.000000  ...      3.000000      1.000000\n",
              "\n",
              "[8 rows x 16 columns]"
            ]
          },
          "metadata": {},
          "execution_count": 13
        }
      ]
    },
    {
      "cell_type": "markdown",
      "metadata": {
        "id": "3D2qKaXM8AEj"
      },
      "source": [
        "## EDA"
      ]
    },
    {
      "cell_type": "markdown",
      "metadata": {
        "id": "rsWBADt_VZoV"
      },
      "source": [
        "### Heatmap"
      ]
    },
    {
      "cell_type": "code",
      "metadata": {
        "colab": {
          "base_uri": "https://localhost:8080/",
          "height": 729
        },
        "id": "vWXjReAf7-0h",
        "outputId": "771a08b4-d9b6-46a6-a241-8d13693daaa9"
      },
      "source": [
        "plt.figure(figsize=(16,10))\n",
        "sns.heatmap(df.corr())\n",
        "plt.tight_layout()"
      ],
      "execution_count": 14,
      "outputs": [
        {
          "output_type": "display_data",
          "data": {
            "image/png": "[encoded data removed]",
            "text/plain": [
              "<Figure size 1152x720 with 2 Axes>"
            ]
          },
          "metadata": {
            "needs_background": "light"
          }
        }
      ]
    },
    {
      "cell_type": "markdown",
      "metadata": {
        "id": "-mxWdrMHAc6N"
      },
      "source": [
        "### Boxplot"
      ]
    },
    {
      "cell_type": "code",
      "metadata": {
        "colab": {
          "base_uri": "https://localhost:8080/",
          "height": 441
        },
        "id": "MLpdKX3E99DS",
        "outputId": "9655185b-1a53-4067-90a7-ee89a0e25319"
      },
      "source": [
        "scal = MinMaxScaler()\n",
        "df_normal = scal.fit_transform(df.drop('y', axis=1))\n",
        "cols = df.columns\n",
        "cols = cols.drop('y')\n",
        "df_normal = pd.DataFrame(df_normal, columns=cols)\n",
        "\n",
        "plt.figure(figsize=(16,6))\n",
        "sns.boxplot(data=df_normal)\n",
        "plt.tight_layout()\n",
        "plt.show()"
      ],
      "execution_count": 15,
      "outputs": [
        {
          "output_type": "display_data",
          "data": {
            "image/png": "[encoded data removed]",
            "text/plain": [
              "<Figure size 1152x432 with 1 Axes>"
            ]
          },
          "metadata": {
            "needs_background": "light"
          }
        }
      ]
    },
    {
      "cell_type": "code",
      "metadata": {
        "colab": {
          "base_uri": "https://localhost:8080/",
          "height": 673
        },
        "id": "xntABNVd-xtQ",
        "outputId": "a0ab5eaa-7329-4da8-e782-b600250ebf57"
      },
      "source": [
        "plt.figure(figsize=(16,17))\n",
        "g = sns.pairplot(data=df.drop(cat_cols, axis=1).sample(frac=0.1, random_state=42), hue='y', palette='Set2', height=1.5)\n",
        "\n",
        "g.tight_layout()\n",
        "plt.show()"
      ],
      "execution_count": 16,
      "outputs": [
        {
          "output_type": "display_data",
          "data": {
            "text/plain": [
              "<Figure size 1152x1224 with 0 Axes>"
            ]
          },
          "metadata": {}
        },
        {
          "output_type": "display_data",
          "data": {
            "image/png": "[encoded data removed]",
            "text/plain": [
              "<Figure size 690.375x648 with 42 Axes>"
            ]
          },
          "metadata": {
            "needs_background": "light"
          }
        }
      ]
    },
    {
      "cell_type": "code",
      "metadata": {
        "id": "P4m3kHD7AqrC"
      },
      "source": [
        "scal = StandardScaler()\n",
        "df_scal = scal.fit_transform(df.drop('y', axis=1))\n",
        "\n",
        "pca = PCA(n_components=2)\n",
        "df_pca = pca.fit_transform(df_scal)\n",
        "xpca = pd.DataFrame(df_pca)"
      ],
      "execution_count": 17,
      "outputs": []
    },
    {
      "cell_type": "code",
      "metadata": {
        "colab": {
          "base_uri": "https://localhost:8080/",
          "height": 436
        },
        "id": "luo0I2ogBoRM",
        "outputId": "009477e3-8f2b-4968-c335-fb595a620805"
      },
      "source": [
        "sns.set_context(\"talk\", font_scale=0.7)\n",
        "plt.figure(figsize=(15,6))\n",
        "\n",
        "plt.scatter(xpca.loc[(df_raw['y'] == 'yes').ravel(),0],xpca.loc[(df_raw['y'] == 'yes').ravel(),1], alpha = 0.3, label = 'yes')\n",
        "plt.scatter(xpca.loc[(df_raw['y'] == 'no').ravel(),0],xpca.loc[(df_raw['y'] == 'no').ravel(),1], alpha = 0.3, label = 'no')\n",
        "\n",
        "plt.xlabel('Principal Component 1')\n",
        "plt.ylabel('Principal Component 2')\n",
        "plt.title('Principal Component Analysis before feature selection')\n",
        "plt.legend(loc='upper right')\n",
        "\n",
        "plt.tight_layout()\n",
        "plt.show()"
      ],
      "execution_count": 18,
      "outputs": [
        {
          "output_type": "display_data",
          "data": {
            "image/png": "[encoded data removed]",
            "text/plain": [
              "<Figure size 1080x432 with 1 Axes>"
            ]
          },
          "metadata": {
            "needs_background": "light"
          }
        }
      ]
    },
    {
      "cell_type": "markdown",
      "metadata": {
        "id": "NHe-aE6PChU_"
      },
      "source": [
        "A simple vista no parecen ser linealmente separables\n",
        "\n",
        "## Entrenamos algunos modelos"
      ]
    },
    {
      "cell_type": "code",
      "metadata": {
        "id": "ST1rVCBwCkUc"
      },
      "source": [
        "from sklearn.linear_model import LogisticRegression\n",
        "from sklearn.ensemble import RandomForestClassifier\n",
        "from sklearn.neighbors import KNeighborsClassifier\n",
        "from sklearn.discriminant_analysis import LinearDiscriminantAnalysis\n",
        "from sklearn.svm import SVC\n",
        "\n",
        "from sklearn.model_selection import train_test_split, GridSearchCV, cross_val_score\n",
        "from sklearn.metrics import f1_score, fbeta_score, make_scorer, confusion_matrix, roc_auc_score, roc_curve"
      ],
      "execution_count": 19,
      "outputs": []
    },
    {
      "cell_type": "markdown",
      "metadata": {
        "id": "NyF8BbSvFx9l"
      },
      "source": [
        "### Revisamos el balance entre clases"
      ]
    },
    {
      "cell_type": "code",
      "metadata": {
        "colab": {
          "base_uri": "https://localhost:8080/",
          "height": 508
        },
        "id": "LkR8H08gC1t1",
        "outputId": "0f96be5c-3db5-4863-b194-7388eb1046a1"
      },
      "source": [
        "plt.figure(figsize=(8,8))\n",
        "splot = sns.countplot(x='y', data=df)\n",
        "\n",
        "for p in splot.patches:\n",
        "    splot.annotate(format(p.get_height()/df.shape[0]*100, '.2f'), (p.get_x() + p.get_width() / 2., p.get_height()), ha = 'center', va = 'center', xytext = (0, 10), textcoords = 'offset points')\n",
        "plt.show()"
      ],
      "execution_count": 20,
      "outputs": [
        {
          "output_type": "display_data",
          "data": {
            "image/png": "[encoded data removed]",
            "text/plain": [
              "<Figure size 576x576 with 1 Axes>"
            ]
          },
          "metadata": {
            "needs_background": "light"
          }
        }
      ]
    },
    {
      "cell_type": "markdown",
      "metadata": {
        "id": "ChwuMVM2WSSV"
      },
      "source": [
        "Dado que hay un claro desbalance elegimos las metricas de area bajo la curva ROC y el valor F1 para una correcta interpretacion de la utilidad del modelo."
      ]
    },
    {
      "cell_type": "markdown",
      "metadata": {
        "id": "qNMTwL2SGGOU"
      },
      "source": [
        "### Particionamos el dataset en train y test"
      ]
    },
    {
      "cell_type": "code",
      "metadata": {
        "id": "UUI2_CNHGBtk"
      },
      "source": [
        "X = df.drop('y', axis=1)\n",
        "y = df['y']\n",
        "\n",
        "xtrain, xtest, ytrain, ytest = train_test_split(X, y, test_size=0.2, random_state=1)"
      ],
      "execution_count": 21,
      "outputs": []
    },
    {
      "cell_type": "markdown",
      "metadata": {
        "id": "Xx0LcpgWHHCU"
      },
      "source": [
        "### Modelo de base"
      ]
    },
    {
      "cell_type": "markdown",
      "metadata": {
        "id": "gOaO-0gQXr_h"
      },
      "source": [
        "Definimos los modelos que vamos a entrenar"
      ]
    },
    {
      "cell_type": "code",
      "metadata": {
        "id": "qys9lhFNHwys"
      },
      "source": [
        "ytests = {}\n",
        "ypreds = {}\n",
        "m = {}\n",
        "\n",
        "res = pd.DataFrame({'model':[], 'roc validation':[], 'roc test':[], 'f1 test':[]})\n",
        "\n",
        "models = {\n",
        "        'Logistic Regression': LogisticRegression(n_jobs = -1, random_state=1, class_weight='balanced'),\n",
        "        'Random Forest': RandomForestClassifier(300, n_jobs = -1, random_state=1, class_weight='balanced'),\n",
        "        'SVC': SVC(random_state=1, class_weight='balanced'),\n",
        "        'KNNeighbors': KNeighborsClassifier(n_jobs = -1),\n",
        "        'LDA': LinearDiscriminantAnalysis()\n",
        "}"
      ],
      "execution_count": 22,
      "outputs": []
    },
    {
      "cell_type": "code",
      "metadata": {
        "id": "M5L1cPPbJJkA"
      },
      "source": [
        "scal = MinMaxScaler()\n",
        "xtrain_scal = scal.fit_transform(xtrain)\n",
        "xtest_scal = scal.transform(xtest)"
      ],
      "execution_count": 23,
      "outputs": []
    },
    {
      "cell_type": "code",
      "metadata": {
        "id": "GU6-6-LYHF-U",
        "colab": {
          "base_uri": "https://localhost:8080/",
          "height": 81
        },
        "outputId": "f77a522d-6df9-4573-bdf1-fced59258a84"
      },
      "source": [
        "from sklearn.dummy import DummyClassifier\n",
        "dc = DummyClassifier()\n",
        "scores = cross_val_score(dc, xtrain_scal, ytrain, cv=5, scoring='roc_auc', n_jobs=-1)\n",
        "dc.fit(xtrain_scal, ytrain)\n",
        "ypred = dc.predict(xtest_scal)\n",
        "res = res.append({'model': 'Baseline', 'roc validation': scores.mean(), 'roc test': roc_auc_score(ytest, ypred), 'f1 test': f1_score(ytest, ypred)}, ignore_index=True)\n",
        "res"
      ],
      "execution_count": 24,
      "outputs": [
        {
          "output_type": "execute_result",
          "data": {
            "text/html": [
              "<div>\n",
              "<style scoped>\n",
              "    .dataframe tbody tr th:only-of-type {\n",
              "        vertical-align: middle;\n",
              "    }\n",
              "\n",
              "    .dataframe tbody tr th {\n",
              "        vertical-align: top;\n",
              "    }\n",
              "\n",
              "    .dataframe thead th {\n",
              "        text-align: right;\n",
              "    }\n",
              "</style>\n",
              "<table border=\"1\" class=\"dataframe\">\n",
              "  <thead>\n",
              "    <tr style=\"text-align: right;\">\n",
              "      <th></th>\n",
              "      <th>model</th>\n",
              "      <th>roc validation</th>\n",
              "      <th>roc test</th>\n",
              "      <th>f1 test</th>\n",
              "    </tr>\n",
              "  </thead>\n",
              "  <tbody>\n",
              "    <tr>\n",
              "      <th>0</th>\n",
              "      <td>Baseline</td>\n",
              "      <td>0.499258</td>\n",
              "      <td>0.504984</td>\n",
              "      <td>0.126582</td>\n",
              "    </tr>\n",
              "  </tbody>\n",
              "</table>\n",
              "</div>"
            ],
            "text/plain": [
              "      model  roc validation  roc test   f1 test\n",
              "0  Baseline        0.499258  0.504984  0.126582"
            ]
          },
          "metadata": {},
          "execution_count": 24
        }
      ]
    },
    {
      "cell_type": "code",
      "metadata": {
        "id": "PLTHNypdW0fv"
      },
      "source": [
        "def train_models(X, y, xtest, ytest, title=''):\n",
        "  res = []\n",
        "  \n",
        "  for name, model in models.items():\n",
        "    print(name)\n",
        "    ytests[f'{name} {title}'] = ytest\n",
        "    # Model training with cross validation\n",
        "    scores = cross_val_score(model, X, y, cv=5, scoring='roc_auc', n_jobs=-1)\n",
        "    model.fit(X, y)\n",
        "    \n",
        "    ypred = model.predict(xtest)\n",
        "    roc = roc_auc_score(ytest, ypred)\n",
        "    ypreds[f'{name} {title}'] = ypred\n",
        "    m[f'{name} {title}'] = model\n",
        "    \n",
        "    # Save the results to a dataframe\n",
        "    # res = res.append(, ignore_index=True)\n",
        "    res.append({'model': f'{name} {title}', 'roc validation': scores.mean(), 'roc test': roc, 'f1 test': f1_score(ytest, ypred)})\n",
        "  return res"
      ],
      "execution_count": 25,
      "outputs": []
    },
    {
      "cell_type": "code",
      "metadata": {
        "colab": {
          "base_uri": "https://localhost:8080/"
        },
        "id": "Ac3TXpbMH-bS",
        "outputId": "9254a5bd-75e2-4afb-8eb7-c28db9e84924"
      },
      "source": [
        "results = train_models(xtrain_scal, ytrain, xtest_scal, ytest, 'MinMax')\n",
        "res = res.append(results, ignore_index=True)"
      ],
      "execution_count": 26,
      "outputs": [
        {
          "output_type": "stream",
          "name": "stdout",
          "text": [
            "Logistic Regression\n",
            "Random Forest\n",
            "SVC\n",
            "KNNeighbors\n",
            "LDA\n"
          ]
        }
      ]
    },
    {
      "cell_type": "code",
      "metadata": {
        "colab": {
          "base_uri": "https://localhost:8080/",
          "height": 237
        },
        "id": "8DuFlwIJPVbK",
        "outputId": "0cd28d2d-e372-4bc7-f5c7-3c7b67cb9720"
      },
      "source": [
        "res.sort_values('f1 test', ascending=False)"
      ],
      "execution_count": 27,
      "outputs": [
        {
          "output_type": "execute_result",
          "data": {
            "text/html": [
              "<div>\n",
              "<style scoped>\n",
              "    .dataframe tbody tr th:only-of-type {\n",
              "        vertical-align: middle;\n",
              "    }\n",
              "\n",
              "    .dataframe tbody tr th {\n",
              "        vertical-align: top;\n",
              "    }\n",
              "\n",
              "    .dataframe thead th {\n",
              "        text-align: right;\n",
              "    }\n",
              "</style>\n",
              "<table border=\"1\" class=\"dataframe\">\n",
              "  <thead>\n",
              "    <tr style=\"text-align: right;\">\n",
              "      <th></th>\n",
              "      <th>model</th>\n",
              "      <th>roc validation</th>\n",
              "      <th>roc test</th>\n",
              "      <th>f1 test</th>\n",
              "    </tr>\n",
              "  </thead>\n",
              "  <tbody>\n",
              "    <tr>\n",
              "      <th>3</th>\n",
              "      <td>SVC MinMax</td>\n",
              "      <td>0.740605</td>\n",
              "      <td>0.695013</td>\n",
              "      <td>0.357516</td>\n",
              "    </tr>\n",
              "    <tr>\n",
              "      <th>1</th>\n",
              "      <td>Logistic Regression MinMax</td>\n",
              "      <td>0.718197</td>\n",
              "      <td>0.664755</td>\n",
              "      <td>0.308879</td>\n",
              "    </tr>\n",
              "    <tr>\n",
              "      <th>2</th>\n",
              "      <td>Random Forest MinMax</td>\n",
              "      <td>0.779734</td>\n",
              "      <td>0.588948</td>\n",
              "      <td>0.294585</td>\n",
              "    </tr>\n",
              "    <tr>\n",
              "      <th>4</th>\n",
              "      <td>KNNeighbors MinMax</td>\n",
              "      <td>0.672650</td>\n",
              "      <td>0.588215</td>\n",
              "      <td>0.289636</td>\n",
              "    </tr>\n",
              "    <tr>\n",
              "      <th>0</th>\n",
              "      <td>Baseline</td>\n",
              "      <td>0.499258</td>\n",
              "      <td>0.504984</td>\n",
              "      <td>0.126582</td>\n",
              "    </tr>\n",
              "    <tr>\n",
              "      <th>5</th>\n",
              "      <td>LDA MinMax</td>\n",
              "      <td>0.713488</td>\n",
              "      <td>0.511457</td>\n",
              "      <td>0.050542</td>\n",
              "    </tr>\n",
              "  </tbody>\n",
              "</table>\n",
              "</div>"
            ],
            "text/plain": [
              "                        model  roc validation  roc test   f1 test\n",
              "3                  SVC MinMax        0.740605  0.695013  0.357516\n",
              "1  Logistic Regression MinMax        0.718197  0.664755  0.308879\n",
              "2        Random Forest MinMax        0.779734  0.588948  0.294585\n",
              "4          KNNeighbors MinMax        0.672650  0.588215  0.289636\n",
              "0                    Baseline        0.499258  0.504984  0.126582\n",
              "5                  LDA MinMax        0.713488  0.511457  0.050542"
            ]
          },
          "metadata": {},
          "execution_count": 27
        }
      ]
    },
    {
      "cell_type": "markdown",
      "metadata": {
        "id": "P3u3AymbTm4x"
      },
      "source": [
        "### Descartamos todo por encima del percentil 99.99"
      ]
    },
    {
      "cell_type": "code",
      "metadata": {
        "colab": {
          "base_uri": "https://localhost:8080/"
        },
        "id": "iPsirq48Tlp4",
        "outputId": "625fe52f-d4aa-4375-bcf2-4aa817e94bd5"
      },
      "source": [
        "aux = df.copy()\n",
        "cols = df.columns\n",
        "cols = cols.drop('y')\n",
        "for col in cols:\n",
        "    aux = aux[aux[col] < aux[col].quantile(.9999)]\n",
        "    print(col, aux.shape[0])\n",
        "\n",
        "df_9999 = aux.copy()\n",
        "df_9999.shape[0]"
      ],
      "execution_count": 28,
      "outputs": [
        {
          "output_type": "stream",
          "name": "stdout",
          "text": [
            "age 45206\n",
            "job 44918\n",
            "marital 32196\n",
            "education 30971\n",
            "default 30418\n",
            "balance 30414\n",
            "housing 13107\n",
            "loan 11157\n",
            "contact 8980\n",
            "day 8784\n",
            "month 8539\n",
            "campaign 8538\n",
            "pdays 8537\n",
            "previous 8536\n",
            "poutcome 1572\n"
          ]
        },
        {
          "output_type": "execute_result",
          "data": {
            "text/plain": [
              "1572"
            ]
          },
          "metadata": {},
          "execution_count": 28
        }
      ]
    },
    {
      "cell_type": "code",
      "metadata": {
        "id": "xCu35c28UqQP",
        "colab": {
          "base_uri": "https://localhost:8080/",
          "height": 508
        },
        "outputId": "6e5a47ea-976b-4db3-bab6-96d77b6c2a06"
      },
      "source": [
        "plt.figure(figsize=(8,8))\n",
        "splot = sns.countplot(x='y', data=df_9999)\n",
        "\n",
        "for p in splot.patches:\n",
        "    splot.annotate(format(p.get_height()/df_9999.shape[0]*100, '.2f'), (p.get_x() + p.get_width() / 2., p.get_height()), ha = 'center', va = 'center', xytext = (0, 10), textcoords = 'offset points')\n",
        "plt.show()"
      ],
      "execution_count": 29,
      "outputs": [
        {
          "output_type": "display_data",
          "data": {
            "image/png": "[encoded data removed]",
            "text/plain": [
              "<Figure size 576x576 with 1 Axes>"
            ]
          },
          "metadata": {
            "needs_background": "light"
          }
        }
      ]
    },
    {
      "cell_type": "code",
      "metadata": {
        "id": "RQMNO4a-UabY"
      },
      "source": [
        "X = df_9999.drop('y', axis=1)\n",
        "y = df_9999['y']\n",
        "\n",
        "xtrain, xtest, ytrain, ytest = train_test_split(X, y, test_size=0.2, random_state=1)\n",
        "\n",
        "scal = MinMaxScaler()\n",
        "xtrain_scal = scal.fit_transform(xtrain)\n",
        "xtest_scal = scal.transform(xtest)"
      ],
      "execution_count": 30,
      "outputs": []
    },
    {
      "cell_type": "code",
      "metadata": {
        "colab": {
          "base_uri": "https://localhost:8080/"
        },
        "id": "q6CRBwceUnWI",
        "outputId": "9e20c59d-ad04-48b5-d648-e7f8080a6021"
      },
      "source": [
        "results = train_models(xtrain_scal, ytrain, xtest_scal, ytest, title='MinMax Perc 99.99')\n",
        "res = res.append(results, ignore_index=True)"
      ],
      "execution_count": 31,
      "outputs": [
        {
          "output_type": "stream",
          "name": "stdout",
          "text": [
            "Logistic Regression\n",
            "Random Forest\n",
            "SVC\n",
            "KNNeighbors\n",
            "LDA\n"
          ]
        }
      ]
    },
    {
      "cell_type": "code",
      "metadata": {
        "colab": {
          "base_uri": "https://localhost:8080/",
          "height": 394
        },
        "id": "EWaqdj0oUtCI",
        "outputId": "7cd6ffe7-2a14-4cb2-f5e9-85d0ef510caf"
      },
      "source": [
        "res.sort_values('f1 test', ascending=False)"
      ],
      "execution_count": 32,
      "outputs": [
        {
          "output_type": "execute_result",
          "data": {
            "text/html": [
              "<div>\n",
              "<style scoped>\n",
              "    .dataframe tbody tr th:only-of-type {\n",
              "        vertical-align: middle;\n",
              "    }\n",
              "\n",
              "    .dataframe tbody tr th {\n",
              "        vertical-align: top;\n",
              "    }\n",
              "\n",
              "    .dataframe thead th {\n",
              "        text-align: right;\n",
              "    }\n",
              "</style>\n",
              "<table border=\"1\" class=\"dataframe\">\n",
              "  <thead>\n",
              "    <tr style=\"text-align: right;\">\n",
              "      <th></th>\n",
              "      <th>model</th>\n",
              "      <th>roc validation</th>\n",
              "      <th>roc test</th>\n",
              "      <th>f1 test</th>\n",
              "    </tr>\n",
              "  </thead>\n",
              "  <tbody>\n",
              "    <tr>\n",
              "      <th>8</th>\n",
              "      <td>SVC MinMax Perc 99.99</td>\n",
              "      <td>0.732848</td>\n",
              "      <td>0.752646</td>\n",
              "      <td>0.697479</td>\n",
              "    </tr>\n",
              "    <tr>\n",
              "      <th>7</th>\n",
              "      <td>Random Forest MinMax Perc 99.99</td>\n",
              "      <td>0.762261</td>\n",
              "      <td>0.748677</td>\n",
              "      <td>0.691983</td>\n",
              "    </tr>\n",
              "    <tr>\n",
              "      <th>10</th>\n",
              "      <td>LDA MinMax Perc 99.99</td>\n",
              "      <td>0.737129</td>\n",
              "      <td>0.746032</td>\n",
              "      <td>0.691358</td>\n",
              "    </tr>\n",
              "    <tr>\n",
              "      <th>6</th>\n",
              "      <td>Logistic Regression MinMax Perc 99.99</td>\n",
              "      <td>0.735365</td>\n",
              "      <td>0.722222</td>\n",
              "      <td>0.674157</td>\n",
              "    </tr>\n",
              "    <tr>\n",
              "      <th>9</th>\n",
              "      <td>KNNeighbors MinMax Perc 99.99</td>\n",
              "      <td>0.683570</td>\n",
              "      <td>0.705026</td>\n",
              "      <td>0.632035</td>\n",
              "    </tr>\n",
              "    <tr>\n",
              "      <th>3</th>\n",
              "      <td>SVC MinMax</td>\n",
              "      <td>0.740605</td>\n",
              "      <td>0.695013</td>\n",
              "      <td>0.357516</td>\n",
              "    </tr>\n",
              "    <tr>\n",
              "      <th>1</th>\n",
              "      <td>Logistic Regression MinMax</td>\n",
              "      <td>0.718197</td>\n",
              "      <td>0.664755</td>\n",
              "      <td>0.308879</td>\n",
              "    </tr>\n",
              "    <tr>\n",
              "      <th>2</th>\n",
              "      <td>Random Forest MinMax</td>\n",
              "      <td>0.779734</td>\n",
              "      <td>0.588948</td>\n",
              "      <td>0.294585</td>\n",
              "    </tr>\n",
              "    <tr>\n",
              "      <th>4</th>\n",
              "      <td>KNNeighbors MinMax</td>\n",
              "      <td>0.672650</td>\n",
              "      <td>0.588215</td>\n",
              "      <td>0.289636</td>\n",
              "    </tr>\n",
              "    <tr>\n",
              "      <th>0</th>\n",
              "      <td>Baseline</td>\n",
              "      <td>0.499258</td>\n",
              "      <td>0.504984</td>\n",
              "      <td>0.126582</td>\n",
              "    </tr>\n",
              "    <tr>\n",
              "      <th>5</th>\n",
              "      <td>LDA MinMax</td>\n",
              "      <td>0.713488</td>\n",
              "      <td>0.511457</td>\n",
              "      <td>0.050542</td>\n",
              "    </tr>\n",
              "  </tbody>\n",
              "</table>\n",
              "</div>"
            ],
            "text/plain": [
              "                                    model  roc validation  roc test   f1 test\n",
              "8                   SVC MinMax Perc 99.99        0.732848  0.752646  0.697479\n",
              "7         Random Forest MinMax Perc 99.99        0.762261  0.748677  0.691983\n",
              "10                  LDA MinMax Perc 99.99        0.737129  0.746032  0.691358\n",
              "6   Logistic Regression MinMax Perc 99.99        0.735365  0.722222  0.674157\n",
              "9           KNNeighbors MinMax Perc 99.99        0.683570  0.705026  0.632035\n",
              "3                              SVC MinMax        0.740605  0.695013  0.357516\n",
              "1              Logistic Regression MinMax        0.718197  0.664755  0.308879\n",
              "2                    Random Forest MinMax        0.779734  0.588948  0.294585\n",
              "4                      KNNeighbors MinMax        0.672650  0.588215  0.289636\n",
              "0                                Baseline        0.499258  0.504984  0.126582\n",
              "5                              LDA MinMax        0.713488  0.511457  0.050542"
            ]
          },
          "metadata": {},
          "execution_count": 32
        }
      ]
    },
    {
      "cell_type": "code",
      "metadata": {
        "colab": {
          "base_uri": "https://localhost:8080/"
        },
        "id": "KlCkZ0I8tUb5",
        "outputId": "28a54ff2-3da3-4028-a971-491e0a958d9f"
      },
      "source": [
        "aux = df.copy()\n",
        "cols = df.columns\n",
        "cols = cols.drop('y')\n",
        "for col in cols:\n",
        "    aux = aux[aux[col] < aux[col].quantile(.999)]\n",
        "    \n",
        "df_999 = aux.copy()\n",
        "\n",
        "df_999.shape[0]"
      ],
      "execution_count": 33,
      "outputs": [
        {
          "output_type": "execute_result",
          "data": {
            "text/plain": [
              "1544"
            ]
          },
          "metadata": {},
          "execution_count": 33
        }
      ]
    },
    {
      "cell_type": "code",
      "metadata": {
        "id": "yRKF4vIEUyU6",
        "colab": {
          "base_uri": "https://localhost:8080/",
          "height": 508
        },
        "outputId": "f233b46d-07fa-40f2-aa06-773aed828764"
      },
      "source": [
        "plt.figure(figsize=(8,8))\n",
        "splot = sns.countplot(x='y', data=df_999)\n",
        "\n",
        "for p in splot.patches:\n",
        "    splot.annotate(format(p.get_height()/df_999.shape[0]*100, '.2f'), (p.get_x() + p.get_width() / 2., p.get_height()), ha = 'center', va = 'center', xytext = (0, 10), textcoords = 'offset points')\n",
        "plt.show()"
      ],
      "execution_count": 34,
      "outputs": [
        {
          "output_type": "display_data",
          "data": {
            "image/png": "[encoded data removed]",
            "text/plain": [
              "<Figure size 576x576 with 1 Axes>"
            ]
          },
          "metadata": {
            "needs_background": "light"
          }
        }
      ]
    },
    {
      "cell_type": "code",
      "metadata": {
        "id": "BB2oHKWfuin9"
      },
      "source": [
        "X = df_999.drop('y', axis=1)\n",
        "y = df_999['y']\n",
        "\n",
        "xtrain, xtest, ytrain, ytest = train_test_split(X, y, test_size=0.2, random_state=1)\n",
        "\n",
        "scal = MinMaxScaler()\n",
        "xtrain_scal = scal.fit_transform(xtrain)\n",
        "xtest_scal = scal.transform(xtest)"
      ],
      "execution_count": 35,
      "outputs": []
    },
    {
      "cell_type": "code",
      "metadata": {
        "colab": {
          "base_uri": "https://localhost:8080/"
        },
        "id": "L7wQ_wfStXdr",
        "outputId": "7528171d-937f-4958-c3e0-0a538accfc2b"
      },
      "source": [
        "results = train_models(xtrain_scal, ytrain, xtest_scal, ytest, title='MinMax Perc 99.9')\n",
        "res = res.append(results, ignore_index=True)"
      ],
      "execution_count": 36,
      "outputs": [
        {
          "output_type": "stream",
          "name": "stdout",
          "text": [
            "Logistic Regression\n",
            "Random Forest\n",
            "SVC\n",
            "KNNeighbors\n",
            "LDA\n"
          ]
        }
      ]
    },
    {
      "cell_type": "code",
      "metadata": {
        "colab": {
          "base_uri": "https://localhost:8080/",
          "height": 551
        },
        "id": "4poa7C2AuNqo",
        "outputId": "2484305a-3acf-4e7b-ff76-97428628e54b"
      },
      "source": [
        "res.sort_values('f1 test', ascending=False)"
      ],
      "execution_count": 37,
      "outputs": [
        {
          "output_type": "execute_result",
          "data": {
            "text/html": [
              "<div>\n",
              "<style scoped>\n",
              "    .dataframe tbody tr th:only-of-type {\n",
              "        vertical-align: middle;\n",
              "    }\n",
              "\n",
              "    .dataframe tbody tr th {\n",
              "        vertical-align: top;\n",
              "    }\n",
              "\n",
              "    .dataframe thead th {\n",
              "        text-align: right;\n",
              "    }\n",
              "</style>\n",
              "<table border=\"1\" class=\"dataframe\">\n",
              "  <thead>\n",
              "    <tr style=\"text-align: right;\">\n",
              "      <th></th>\n",
              "      <th>model</th>\n",
              "      <th>roc validation</th>\n",
              "      <th>roc test</th>\n",
              "      <th>f1 test</th>\n",
              "    </tr>\n",
              "  </thead>\n",
              "  <tbody>\n",
              "    <tr>\n",
              "      <th>8</th>\n",
              "      <td>SVC MinMax Perc 99.99</td>\n",
              "      <td>0.732848</td>\n",
              "      <td>0.752646</td>\n",
              "      <td>0.697479</td>\n",
              "    </tr>\n",
              "    <tr>\n",
              "      <th>7</th>\n",
              "      <td>Random Forest MinMax Perc 99.99</td>\n",
              "      <td>0.762261</td>\n",
              "      <td>0.748677</td>\n",
              "      <td>0.691983</td>\n",
              "    </tr>\n",
              "    <tr>\n",
              "      <th>10</th>\n",
              "      <td>LDA MinMax Perc 99.99</td>\n",
              "      <td>0.737129</td>\n",
              "      <td>0.746032</td>\n",
              "      <td>0.691358</td>\n",
              "    </tr>\n",
              "    <tr>\n",
              "      <th>6</th>\n",
              "      <td>Logistic Regression MinMax Perc 99.99</td>\n",
              "      <td>0.735365</td>\n",
              "      <td>0.722222</td>\n",
              "      <td>0.674157</td>\n",
              "    </tr>\n",
              "    <tr>\n",
              "      <th>9</th>\n",
              "      <td>KNNeighbors MinMax Perc 99.99</td>\n",
              "      <td>0.683570</td>\n",
              "      <td>0.705026</td>\n",
              "      <td>0.632035</td>\n",
              "    </tr>\n",
              "    <tr>\n",
              "      <th>13</th>\n",
              "      <td>SVC MinMax Perc 99.9</td>\n",
              "      <td>0.761374</td>\n",
              "      <td>0.690280</td>\n",
              "      <td>0.605505</td>\n",
              "    </tr>\n",
              "    <tr>\n",
              "      <th>15</th>\n",
              "      <td>LDA MinMax Perc 99.9</td>\n",
              "      <td>0.757986</td>\n",
              "      <td>0.682587</td>\n",
              "      <td>0.601770</td>\n",
              "    </tr>\n",
              "    <tr>\n",
              "      <th>11</th>\n",
              "      <td>Logistic Regression MinMax Perc 99.9</td>\n",
              "      <td>0.757633</td>\n",
              "      <td>0.659509</td>\n",
              "      <td>0.592000</td>\n",
              "    </tr>\n",
              "    <tr>\n",
              "      <th>12</th>\n",
              "      <td>Random Forest MinMax Perc 99.9</td>\n",
              "      <td>0.777456</td>\n",
              "      <td>0.671092</td>\n",
              "      <td>0.576744</td>\n",
              "    </tr>\n",
              "    <tr>\n",
              "      <th>14</th>\n",
              "      <td>KNNeighbors MinMax Perc 99.9</td>\n",
              "      <td>0.717626</td>\n",
              "      <td>0.644496</td>\n",
              "      <td>0.551111</td>\n",
              "    </tr>\n",
              "    <tr>\n",
              "      <th>3</th>\n",
              "      <td>SVC MinMax</td>\n",
              "      <td>0.740605</td>\n",
              "      <td>0.695013</td>\n",
              "      <td>0.357516</td>\n",
              "    </tr>\n",
              "    <tr>\n",
              "      <th>1</th>\n",
              "      <td>Logistic Regression MinMax</td>\n",
              "      <td>0.718197</td>\n",
              "      <td>0.664755</td>\n",
              "      <td>0.308879</td>\n",
              "    </tr>\n",
              "    <tr>\n",
              "      <th>2</th>\n",
              "      <td>Random Forest MinMax</td>\n",
              "      <td>0.779734</td>\n",
              "      <td>0.588948</td>\n",
              "      <td>0.294585</td>\n",
              "    </tr>\n",
              "    <tr>\n",
              "      <th>4</th>\n",
              "      <td>KNNeighbors MinMax</td>\n",
              "      <td>0.672650</td>\n",
              "      <td>0.588215</td>\n",
              "      <td>0.289636</td>\n",
              "    </tr>\n",
              "    <tr>\n",
              "      <th>0</th>\n",
              "      <td>Baseline</td>\n",
              "      <td>0.499258</td>\n",
              "      <td>0.504984</td>\n",
              "      <td>0.126582</td>\n",
              "    </tr>\n",
              "    <tr>\n",
              "      <th>5</th>\n",
              "      <td>LDA MinMax</td>\n",
              "      <td>0.713488</td>\n",
              "      <td>0.511457</td>\n",
              "      <td>0.050542</td>\n",
              "    </tr>\n",
              "  </tbody>\n",
              "</table>\n",
              "</div>"
            ],
            "text/plain": [
              "                                    model  roc validation  roc test   f1 test\n",
              "8                   SVC MinMax Perc 99.99        0.732848  0.752646  0.697479\n",
              "7         Random Forest MinMax Perc 99.99        0.762261  0.748677  0.691983\n",
              "10                  LDA MinMax Perc 99.99        0.737129  0.746032  0.691358\n",
              "6   Logistic Regression MinMax Perc 99.99        0.735365  0.722222  0.674157\n",
              "9           KNNeighbors MinMax Perc 99.99        0.683570  0.705026  0.632035\n",
              "13                   SVC MinMax Perc 99.9        0.761374  0.690280  0.605505\n",
              "15                   LDA MinMax Perc 99.9        0.757986  0.682587  0.601770\n",
              "11   Logistic Regression MinMax Perc 99.9        0.757633  0.659509  0.592000\n",
              "12         Random Forest MinMax Perc 99.9        0.777456  0.671092  0.576744\n",
              "14           KNNeighbors MinMax Perc 99.9        0.717626  0.644496  0.551111\n",
              "3                              SVC MinMax        0.740605  0.695013  0.357516\n",
              "1              Logistic Regression MinMax        0.718197  0.664755  0.308879\n",
              "2                    Random Forest MinMax        0.779734  0.588948  0.294585\n",
              "4                      KNNeighbors MinMax        0.672650  0.588215  0.289636\n",
              "0                                Baseline        0.499258  0.504984  0.126582\n",
              "5                              LDA MinMax        0.713488  0.511457  0.050542"
            ]
          },
          "metadata": {},
          "execution_count": 37
        }
      ]
    },
    {
      "cell_type": "markdown",
      "metadata": {
        "id": "1Q_Xxqp3g6AH"
      },
      "source": [
        "### We plot feature importance for one of the models"
      ]
    },
    {
      "cell_type": "code",
      "metadata": {
        "colab": {
          "base_uri": "https://localhost:8080/",
          "height": 328
        },
        "id": "aElV78PpAKTS",
        "outputId": "3c1229e0-fc26-4474-f94e-5eb43df7c437"
      },
      "source": [
        "plt.figure(figsize=(16,5))\n",
        "sns.barplot(df_9999.columns.drop('y'), np.sort(m['Random Forest MinMax Perc 99.99'].feature_importances_))\n",
        "plt.show()"
      ],
      "execution_count": 38,
      "outputs": [
        {
          "output_type": "display_data",
          "data": {
            "image/png": "[encoded data removed]",
            "text/plain": [
              "<Figure size 1152x360 with 1 Axes>"
            ]
          },
          "metadata": {
            "needs_background": "light"
          }
        }
      ]
    },
    {
      "cell_type": "code",
      "metadata": {
        "id": "fe9TnMvaKKd3"
      },
      "source": [
        "df_drop = df_9999.drop(['age', 'job', 'marital'], axis=1)\n",
        "\n",
        "X = df_drop.drop('y', axis=1)\n",
        "y = df_drop['y']\n",
        "\n",
        "xtrain, xtest, ytrain, ytest = train_test_split(X, y, test_size=0.2, random_state=1)\n",
        "\n",
        "scal = MinMaxScaler()\n",
        "xtrain_scal = scal.fit_transform(xtrain)\n",
        "xtest_scal = scal.transform(xtest)"
      ],
      "execution_count": 39,
      "outputs": []
    },
    {
      "cell_type": "code",
      "metadata": {
        "id": "TzBVpPjJ3z7H",
        "colab": {
          "base_uri": "https://localhost:8080/",
          "height": 508
        },
        "outputId": "0377efe8-f636-488e-aeb6-6df33bff1d85"
      },
      "source": [
        "plt.figure(figsize=(8,8))\n",
        "splot = sns.countplot(x='y', data=df_drop)\n",
        "\n",
        "for p in splot.patches:\n",
        "    splot.annotate(format(p.get_height()/df_drop.shape[0]*100, '.2f'), (p.get_x() + p.get_width() / 2., p.get_height()), ha = 'center', va = 'center', xytext = (0, 10), textcoords = 'offset points')\n",
        "plt.show()"
      ],
      "execution_count": 40,
      "outputs": [
        {
          "output_type": "display_data",
          "data": {
            "image/png": "[encoded data removed]",
            "text/plain": [
              "<Figure size 576x576 with 1 Axes>"
            ]
          },
          "metadata": {
            "needs_background": "light"
          }
        }
      ]
    },
    {
      "cell_type": "code",
      "metadata": {
        "colab": {
          "base_uri": "https://localhost:8080/"
        },
        "id": "ZtfnIbqdKdar",
        "outputId": "d68fb225-5759-4b90-dd3f-020ecb9c7347"
      },
      "source": [
        "results = train_models(xtrain_scal, ytrain, xtest_scal, ytest, title='MinMax Perc 99.99 Drop')\n",
        "res = res.append(results, ignore_index=True)"
      ],
      "execution_count": 41,
      "outputs": [
        {
          "output_type": "stream",
          "name": "stdout",
          "text": [
            "Logistic Regression\n",
            "Random Forest\n",
            "SVC\n",
            "KNNeighbors\n",
            "LDA\n"
          ]
        }
      ]
    },
    {
      "cell_type": "code",
      "metadata": {
        "id": "NFQoo0DdL4Oy",
        "colab": {
          "base_uri": "https://localhost:8080/",
          "height": 707
        },
        "outputId": "df396d70-963f-40bb-cc68-d7ed2d53e7a6"
      },
      "source": [
        "res.sort_values('f1 test', ascending=False)"
      ],
      "execution_count": 42,
      "outputs": [
        {
          "output_type": "execute_result",
          "data": {
            "text/html": [
              "<div>\n",
              "<style scoped>\n",
              "    .dataframe tbody tr th:only-of-type {\n",
              "        vertical-align: middle;\n",
              "    }\n",
              "\n",
              "    .dataframe tbody tr th {\n",
              "        vertical-align: top;\n",
              "    }\n",
              "\n",
              "    .dataframe thead th {\n",
              "        text-align: right;\n",
              "    }\n",
              "</style>\n",
              "<table border=\"1\" class=\"dataframe\">\n",
              "  <thead>\n",
              "    <tr style=\"text-align: right;\">\n",
              "      <th></th>\n",
              "      <th>model</th>\n",
              "      <th>roc validation</th>\n",
              "      <th>roc test</th>\n",
              "      <th>f1 test</th>\n",
              "    </tr>\n",
              "  </thead>\n",
              "  <tbody>\n",
              "    <tr>\n",
              "      <th>20</th>\n",
              "      <td>LDA MinMax Perc 99.99 Drop</td>\n",
              "      <td>0.728968</td>\n",
              "      <td>0.757937</td>\n",
              "      <td>0.705394</td>\n",
              "    </tr>\n",
              "    <tr>\n",
              "      <th>18</th>\n",
              "      <td>SVC MinMax Perc 99.99 Drop</td>\n",
              "      <td>0.727868</td>\n",
              "      <td>0.757937</td>\n",
              "      <td>0.703390</td>\n",
              "    </tr>\n",
              "    <tr>\n",
              "      <th>8</th>\n",
              "      <td>SVC MinMax Perc 99.99</td>\n",
              "      <td>0.732848</td>\n",
              "      <td>0.752646</td>\n",
              "      <td>0.697479</td>\n",
              "    </tr>\n",
              "    <tr>\n",
              "      <th>7</th>\n",
              "      <td>Random Forest MinMax Perc 99.99</td>\n",
              "      <td>0.762261</td>\n",
              "      <td>0.748677</td>\n",
              "      <td>0.691983</td>\n",
              "    </tr>\n",
              "    <tr>\n",
              "      <th>10</th>\n",
              "      <td>LDA MinMax Perc 99.99</td>\n",
              "      <td>0.737129</td>\n",
              "      <td>0.746032</td>\n",
              "      <td>0.691358</td>\n",
              "    </tr>\n",
              "    <tr>\n",
              "      <th>17</th>\n",
              "      <td>Random Forest MinMax Perc 99.99 Drop</td>\n",
              "      <td>0.770000</td>\n",
              "      <td>0.744709</td>\n",
              "      <td>0.686441</td>\n",
              "    </tr>\n",
              "    <tr>\n",
              "      <th>6</th>\n",
              "      <td>Logistic Regression MinMax Perc 99.99</td>\n",
              "      <td>0.735365</td>\n",
              "      <td>0.722222</td>\n",
              "      <td>0.674157</td>\n",
              "    </tr>\n",
              "    <tr>\n",
              "      <th>16</th>\n",
              "      <td>Logistic Regression MinMax Perc 99.99 Drop</td>\n",
              "      <td>0.727893</td>\n",
              "      <td>0.714286</td>\n",
              "      <td>0.666667</td>\n",
              "    </tr>\n",
              "    <tr>\n",
              "      <th>19</th>\n",
              "      <td>KNNeighbors MinMax Perc 99.99 Drop</td>\n",
              "      <td>0.697336</td>\n",
              "      <td>0.716931</td>\n",
              "      <td>0.649573</td>\n",
              "    </tr>\n",
              "    <tr>\n",
              "      <th>9</th>\n",
              "      <td>KNNeighbors MinMax Perc 99.99</td>\n",
              "      <td>0.683570</td>\n",
              "      <td>0.705026</td>\n",
              "      <td>0.632035</td>\n",
              "    </tr>\n",
              "    <tr>\n",
              "      <th>13</th>\n",
              "      <td>SVC MinMax Perc 99.9</td>\n",
              "      <td>0.761374</td>\n",
              "      <td>0.690280</td>\n",
              "      <td>0.605505</td>\n",
              "    </tr>\n",
              "    <tr>\n",
              "      <th>15</th>\n",
              "      <td>LDA MinMax Perc 99.9</td>\n",
              "      <td>0.757986</td>\n",
              "      <td>0.682587</td>\n",
              "      <td>0.601770</td>\n",
              "    </tr>\n",
              "    <tr>\n",
              "      <th>11</th>\n",
              "      <td>Logistic Regression MinMax Perc 99.9</td>\n",
              "      <td>0.757633</td>\n",
              "      <td>0.659509</td>\n",
              "      <td>0.592000</td>\n",
              "    </tr>\n",
              "    <tr>\n",
              "      <th>12</th>\n",
              "      <td>Random Forest MinMax Perc 99.9</td>\n",
              "      <td>0.777456</td>\n",
              "      <td>0.671092</td>\n",
              "      <td>0.576744</td>\n",
              "    </tr>\n",
              "    <tr>\n",
              "      <th>14</th>\n",
              "      <td>KNNeighbors MinMax Perc 99.9</td>\n",
              "      <td>0.717626</td>\n",
              "      <td>0.644496</td>\n",
              "      <td>0.551111</td>\n",
              "    </tr>\n",
              "    <tr>\n",
              "      <th>3</th>\n",
              "      <td>SVC MinMax</td>\n",
              "      <td>0.740605</td>\n",
              "      <td>0.695013</td>\n",
              "      <td>0.357516</td>\n",
              "    </tr>\n",
              "    <tr>\n",
              "      <th>1</th>\n",
              "      <td>Logistic Regression MinMax</td>\n",
              "      <td>0.718197</td>\n",
              "      <td>0.664755</td>\n",
              "      <td>0.308879</td>\n",
              "    </tr>\n",
              "    <tr>\n",
              "      <th>2</th>\n",
              "      <td>Random Forest MinMax</td>\n",
              "      <td>0.779734</td>\n",
              "      <td>0.588948</td>\n",
              "      <td>0.294585</td>\n",
              "    </tr>\n",
              "    <tr>\n",
              "      <th>4</th>\n",
              "      <td>KNNeighbors MinMax</td>\n",
              "      <td>0.672650</td>\n",
              "      <td>0.588215</td>\n",
              "      <td>0.289636</td>\n",
              "    </tr>\n",
              "    <tr>\n",
              "      <th>0</th>\n",
              "      <td>Baseline</td>\n",
              "      <td>0.499258</td>\n",
              "      <td>0.504984</td>\n",
              "      <td>0.126582</td>\n",
              "    </tr>\n",
              "    <tr>\n",
              "      <th>5</th>\n",
              "      <td>LDA MinMax</td>\n",
              "      <td>0.713488</td>\n",
              "      <td>0.511457</td>\n",
              "      <td>0.050542</td>\n",
              "    </tr>\n",
              "  </tbody>\n",
              "</table>\n",
              "</div>"
            ],
            "text/plain": [
              "                                         model  ...   f1 test\n",
              "20                  LDA MinMax Perc 99.99 Drop  ...  0.705394\n",
              "18                  SVC MinMax Perc 99.99 Drop  ...  0.703390\n",
              "8                        SVC MinMax Perc 99.99  ...  0.697479\n",
              "7              Random Forest MinMax Perc 99.99  ...  0.691983\n",
              "10                       LDA MinMax Perc 99.99  ...  0.691358\n",
              "17        Random Forest MinMax Perc 99.99 Drop  ...  0.686441\n",
              "6        Logistic Regression MinMax Perc 99.99  ...  0.674157\n",
              "16  Logistic Regression MinMax Perc 99.99 Drop  ...  0.666667\n",
              "19          KNNeighbors MinMax Perc 99.99 Drop  ...  0.649573\n",
              "9                KNNeighbors MinMax Perc 99.99  ...  0.632035\n",
              "13                        SVC MinMax Perc 99.9  ...  0.605505\n",
              "15                        LDA MinMax Perc 99.9  ...  0.601770\n",
              "11        Logistic Regression MinMax Perc 99.9  ...  0.592000\n",
              "12              Random Forest MinMax Perc 99.9  ...  0.576744\n",
              "14                KNNeighbors MinMax Perc 99.9  ...  0.551111\n",
              "3                                   SVC MinMax  ...  0.357516\n",
              "1                   Logistic Regression MinMax  ...  0.308879\n",
              "2                         Random Forest MinMax  ...  0.294585\n",
              "4                           KNNeighbors MinMax  ...  0.289636\n",
              "0                                     Baseline  ...  0.126582\n",
              "5                                   LDA MinMax  ...  0.050542\n",
              "\n",
              "[21 rows x 4 columns]"
            ]
          },
          "metadata": {},
          "execution_count": 42
        }
      ]
    },
    {
      "cell_type": "markdown",
      "metadata": {
        "id": "GdMimMGGZ02H"
      },
      "source": [
        "### Probamos usando dummies"
      ]
    },
    {
      "cell_type": "code",
      "metadata": {
        "id": "QhBnYYnxYhqk",
        "colab": {
          "base_uri": "https://localhost:8080/",
          "height": 226
        },
        "outputId": "0abe023c-aa50-4161-96ce-db2609de1399"
      },
      "source": [
        "df_dummy = df_raw.drop(['age', 'job', 'marital', 'duration'], axis=1)\n",
        "\n",
        "df_dummy['y'] = label_binarize(df_dummy['y'], classes=['no', 'yes'])\n",
        "df_dummy = pd.get_dummies(df_dummy)\n",
        "\n",
        "df_dummy.tail()"
      ],
      "execution_count": 43,
      "outputs": [
        {
          "output_type": "execute_result",
          "data": {
            "text/html": [
              "<div>\n",
              "<style scoped>\n",
              "    .dataframe tbody tr th:only-of-type {\n",
              "        vertical-align: middle;\n",
              "    }\n",
              "\n",
              "    .dataframe tbody tr th {\n",
              "        vertical-align: top;\n",
              "    }\n",
              "\n",
              "    .dataframe thead th {\n",
              "        text-align: right;\n",
              "    }\n",
              "</style>\n",
              "<table border=\"1\" class=\"dataframe\">\n",
              "  <thead>\n",
              "    <tr style=\"text-align: right;\">\n",
              "      <th></th>\n",
              "      <th>balance</th>\n",
              "      <th>day</th>\n",
              "      <th>campaign</th>\n",
              "      <th>pdays</th>\n",
              "      <th>previous</th>\n",
              "      <th>y</th>\n",
              "      <th>education_primary</th>\n",
              "      <th>education_secondary</th>\n",
              "      <th>education_tertiary</th>\n",
              "      <th>education_unknown</th>\n",
              "      <th>default_no</th>\n",
              "      <th>default_yes</th>\n",
              "      <th>housing_no</th>\n",
              "      <th>housing_yes</th>\n",
              "      <th>loan_no</th>\n",
              "      <th>loan_yes</th>\n",
              "      <th>contact_cellular</th>\n",
              "      <th>contact_telephone</th>\n",
              "      <th>contact_unknown</th>\n",
              "      <th>month_apr</th>\n",
              "      <th>month_aug</th>\n",
              "      <th>month_dec</th>\n",
              "      <th>month_feb</th>\n",
              "      <th>month_jan</th>\n",
              "      <th>month_jul</th>\n",
              "      <th>month_jun</th>\n",
              "      <th>month_mar</th>\n",
              "      <th>month_may</th>\n",
              "      <th>month_nov</th>\n",
              "      <th>month_oct</th>\n",
              "      <th>month_sep</th>\n",
              "      <th>poutcome_failure</th>\n",
              "      <th>poutcome_other</th>\n",
              "      <th>poutcome_success</th>\n",
              "      <th>poutcome_unknown</th>\n",
              "    </tr>\n",
              "  </thead>\n",
              "  <tbody>\n",
              "    <tr>\n",
              "      <th>45206</th>\n",
              "      <td>825</td>\n",
              "      <td>17</td>\n",
              "      <td>3</td>\n",
              "      <td>-1</td>\n",
              "      <td>0</td>\n",
              "      <td>1</td>\n",
              "      <td>0</td>\n",
              "      <td>0</td>\n",
              "      <td>1</td>\n",
              "      <td>0</td>\n",
              "      <td>1</td>\n",
              "      <td>0</td>\n",
              "      <td>1</td>\n",
              "      <td>0</td>\n",
              "      <td>1</td>\n",
              "      <td>0</td>\n",
              "      <td>1</td>\n",
              "      <td>0</td>\n",
              "      <td>0</td>\n",
              "      <td>0</td>\n",
              "      <td>0</td>\n",
              "      <td>0</td>\n",
              "      <td>0</td>\n",
              "      <td>0</td>\n",
              "      <td>0</td>\n",
              "      <td>0</td>\n",
              "      <td>0</td>\n",
              "      <td>0</td>\n",
              "      <td>1</td>\n",
              "      <td>0</td>\n",
              "      <td>0</td>\n",
              "      <td>0</td>\n",
              "      <td>0</td>\n",
              "      <td>0</td>\n",
              "      <td>1</td>\n",
              "    </tr>\n",
              "    <tr>\n",
              "      <th>45207</th>\n",
              "      <td>1729</td>\n",
              "      <td>17</td>\n",
              "      <td>2</td>\n",
              "      <td>-1</td>\n",
              "      <td>0</td>\n",
              "      <td>1</td>\n",
              "      <td>1</td>\n",
              "      <td>0</td>\n",
              "      <td>0</td>\n",
              "      <td>0</td>\n",
              "      <td>1</td>\n",
              "      <td>0</td>\n",
              "      <td>1</td>\n",
              "      <td>0</td>\n",
              "      <td>1</td>\n",
              "      <td>0</td>\n",
              "      <td>1</td>\n",
              "      <td>0</td>\n",
              "      <td>0</td>\n",
              "      <td>0</td>\n",
              "      <td>0</td>\n",
              "      <td>0</td>\n",
              "      <td>0</td>\n",
              "      <td>0</td>\n",
              "      <td>0</td>\n",
              "      <td>0</td>\n",
              "      <td>0</td>\n",
              "      <td>0</td>\n",
              "      <td>1</td>\n",
              "      <td>0</td>\n",
              "      <td>0</td>\n",
              "      <td>0</td>\n",
              "      <td>0</td>\n",
              "      <td>0</td>\n",
              "      <td>1</td>\n",
              "    </tr>\n",
              "    <tr>\n",
              "      <th>45208</th>\n",
              "      <td>5715</td>\n",
              "      <td>17</td>\n",
              "      <td>5</td>\n",
              "      <td>184</td>\n",
              "      <td>3</td>\n",
              "      <td>1</td>\n",
              "      <td>0</td>\n",
              "      <td>1</td>\n",
              "      <td>0</td>\n",
              "      <td>0</td>\n",
              "      <td>1</td>\n",
              "      <td>0</td>\n",
              "      <td>1</td>\n",
              "      <td>0</td>\n",
              "      <td>1</td>\n",
              "      <td>0</td>\n",
              "      <td>1</td>\n",
              "      <td>0</td>\n",
              "      <td>0</td>\n",
              "      <td>0</td>\n",
              "      <td>0</td>\n",
              "      <td>0</td>\n",
              "      <td>0</td>\n",
              "      <td>0</td>\n",
              "      <td>0</td>\n",
              "      <td>0</td>\n",
              "      <td>0</td>\n",
              "      <td>0</td>\n",
              "      <td>1</td>\n",
              "      <td>0</td>\n",
              "      <td>0</td>\n",
              "      <td>0</td>\n",
              "      <td>0</td>\n",
              "      <td>1</td>\n",
              "      <td>0</td>\n",
              "    </tr>\n",
              "    <tr>\n",
              "      <th>45209</th>\n",
              "      <td>668</td>\n",
              "      <td>17</td>\n",
              "      <td>4</td>\n",
              "      <td>-1</td>\n",
              "      <td>0</td>\n",
              "      <td>0</td>\n",
              "      <td>0</td>\n",
              "      <td>1</td>\n",
              "      <td>0</td>\n",
              "      <td>0</td>\n",
              "      <td>1</td>\n",
              "      <td>0</td>\n",
              "      <td>1</td>\n",
              "      <td>0</td>\n",
              "      <td>1</td>\n",
              "      <td>0</td>\n",
              "      <td>0</td>\n",
              "      <td>1</td>\n",
              "      <td>0</td>\n",
              "      <td>0</td>\n",
              "      <td>0</td>\n",
              "      <td>0</td>\n",
              "      <td>0</td>\n",
              "      <td>0</td>\n",
              "      <td>0</td>\n",
              "      <td>0</td>\n",
              "      <td>0</td>\n",
              "      <td>0</td>\n",
              "      <td>1</td>\n",
              "      <td>0</td>\n",
              "      <td>0</td>\n",
              "      <td>0</td>\n",
              "      <td>0</td>\n",
              "      <td>0</td>\n",
              "      <td>1</td>\n",
              "    </tr>\n",
              "    <tr>\n",
              "      <th>45210</th>\n",
              "      <td>2971</td>\n",
              "      <td>17</td>\n",
              "      <td>2</td>\n",
              "      <td>188</td>\n",
              "      <td>11</td>\n",
              "      <td>0</td>\n",
              "      <td>0</td>\n",
              "      <td>1</td>\n",
              "      <td>0</td>\n",
              "      <td>0</td>\n",
              "      <td>1</td>\n",
              "      <td>0</td>\n",
              "      <td>1</td>\n",
              "      <td>0</td>\n",
              "      <td>1</td>\n",
              "      <td>0</td>\n",
              "      <td>1</td>\n",
              "      <td>0</td>\n",
              "      <td>0</td>\n",
              "      <td>0</td>\n",
              "      <td>0</td>\n",
              "      <td>0</td>\n",
              "      <td>0</td>\n",
              "      <td>0</td>\n",
              "      <td>0</td>\n",
              "      <td>0</td>\n",
              "      <td>0</td>\n",
              "      <td>0</td>\n",
              "      <td>1</td>\n",
              "      <td>0</td>\n",
              "      <td>0</td>\n",
              "      <td>0</td>\n",
              "      <td>1</td>\n",
              "      <td>0</td>\n",
              "      <td>0</td>\n",
              "    </tr>\n",
              "  </tbody>\n",
              "</table>\n",
              "</div>"
            ],
            "text/plain": [
              "       balance  day  ...  poutcome_success  poutcome_unknown\n",
              "45206      825   17  ...                 0                 1\n",
              "45207     1729   17  ...                 0                 1\n",
              "45208     5715   17  ...                 1                 0\n",
              "45209      668   17  ...                 0                 1\n",
              "45210     2971   17  ...                 0                 0\n",
              "\n",
              "[5 rows x 35 columns]"
            ]
          },
          "metadata": {},
          "execution_count": 43
        }
      ]
    },
    {
      "cell_type": "code",
      "metadata": {
        "id": "gU7uKlsWd1D7"
      },
      "source": [
        "X = df_dummy.drop('y', axis=1)\n",
        "y = df_dummy['y']\n",
        "xtrain, xtest, ytrain, ytest = train_test_split(X, y, test_size=0.2, random_state=1)\n",
        "\n",
        "scal = MinMaxScaler()\n",
        "xtrain_scal = scal.fit_transform(xtrain)\n",
        "xtest_scal = scal.transform(xtest)"
      ],
      "execution_count": 44,
      "outputs": []
    },
    {
      "cell_type": "code",
      "metadata": {
        "id": "sDbZ9omTfGWl",
        "colab": {
          "base_uri": "https://localhost:8080/"
        },
        "outputId": "30e973eb-cd11-4940-bb07-07df396f4e13"
      },
      "source": [
        "results = train_models(xtrain_scal, ytrain, xtest_scal, ytest, title='MinMax Dummies Drop')\n",
        "res = res.append(results, ignore_index=True)"
      ],
      "execution_count": 45,
      "outputs": [
        {
          "output_type": "stream",
          "name": "stdout",
          "text": [
            "Logistic Regression\n",
            "Random Forest\n",
            "SVC\n",
            "KNNeighbors\n",
            "LDA\n"
          ]
        }
      ]
    },
    {
      "cell_type": "code",
      "metadata": {
        "id": "hAoAljUkfQRO",
        "colab": {
          "base_uri": "https://localhost:8080/",
          "height": 864
        },
        "outputId": "9acddaed-6938-4874-d2fc-50a923eac6d2"
      },
      "source": [
        "res.sort_values('f1 test', ascending=False)"
      ],
      "execution_count": 46,
      "outputs": [
        {
          "output_type": "execute_result",
          "data": {
            "text/html": [
              "<div>\n",
              "<style scoped>\n",
              "    .dataframe tbody tr th:only-of-type {\n",
              "        vertical-align: middle;\n",
              "    }\n",
              "\n",
              "    .dataframe tbody tr th {\n",
              "        vertical-align: top;\n",
              "    }\n",
              "\n",
              "    .dataframe thead th {\n",
              "        text-align: right;\n",
              "    }\n",
              "</style>\n",
              "<table border=\"1\" class=\"dataframe\">\n",
              "  <thead>\n",
              "    <tr style=\"text-align: right;\">\n",
              "      <th></th>\n",
              "      <th>model</th>\n",
              "      <th>roc validation</th>\n",
              "      <th>roc test</th>\n",
              "      <th>f1 test</th>\n",
              "    </tr>\n",
              "  </thead>\n",
              "  <tbody>\n",
              "    <tr>\n",
              "      <th>20</th>\n",
              "      <td>LDA MinMax Perc 99.99 Drop</td>\n",
              "      <td>0.728968</td>\n",
              "      <td>0.757937</td>\n",
              "      <td>0.705394</td>\n",
              "    </tr>\n",
              "    <tr>\n",
              "      <th>18</th>\n",
              "      <td>SVC MinMax Perc 99.99 Drop</td>\n",
              "      <td>0.727868</td>\n",
              "      <td>0.757937</td>\n",
              "      <td>0.703390</td>\n",
              "    </tr>\n",
              "    <tr>\n",
              "      <th>8</th>\n",
              "      <td>SVC MinMax Perc 99.99</td>\n",
              "      <td>0.732848</td>\n",
              "      <td>0.752646</td>\n",
              "      <td>0.697479</td>\n",
              "    </tr>\n",
              "    <tr>\n",
              "      <th>7</th>\n",
              "      <td>Random Forest MinMax Perc 99.99</td>\n",
              "      <td>0.762261</td>\n",
              "      <td>0.748677</td>\n",
              "      <td>0.691983</td>\n",
              "    </tr>\n",
              "    <tr>\n",
              "      <th>10</th>\n",
              "      <td>LDA MinMax Perc 99.99</td>\n",
              "      <td>0.737129</td>\n",
              "      <td>0.746032</td>\n",
              "      <td>0.691358</td>\n",
              "    </tr>\n",
              "    <tr>\n",
              "      <th>17</th>\n",
              "      <td>Random Forest MinMax Perc 99.99 Drop</td>\n",
              "      <td>0.770000</td>\n",
              "      <td>0.744709</td>\n",
              "      <td>0.686441</td>\n",
              "    </tr>\n",
              "    <tr>\n",
              "      <th>6</th>\n",
              "      <td>Logistic Regression MinMax Perc 99.99</td>\n",
              "      <td>0.735365</td>\n",
              "      <td>0.722222</td>\n",
              "      <td>0.674157</td>\n",
              "    </tr>\n",
              "    <tr>\n",
              "      <th>16</th>\n",
              "      <td>Logistic Regression MinMax Perc 99.99 Drop</td>\n",
              "      <td>0.727893</td>\n",
              "      <td>0.714286</td>\n",
              "      <td>0.666667</td>\n",
              "    </tr>\n",
              "    <tr>\n",
              "      <th>19</th>\n",
              "      <td>KNNeighbors MinMax Perc 99.99 Drop</td>\n",
              "      <td>0.697336</td>\n",
              "      <td>0.716931</td>\n",
              "      <td>0.649573</td>\n",
              "    </tr>\n",
              "    <tr>\n",
              "      <th>9</th>\n",
              "      <td>KNNeighbors MinMax Perc 99.99</td>\n",
              "      <td>0.683570</td>\n",
              "      <td>0.705026</td>\n",
              "      <td>0.632035</td>\n",
              "    </tr>\n",
              "    <tr>\n",
              "      <th>13</th>\n",
              "      <td>SVC MinMax Perc 99.9</td>\n",
              "      <td>0.761374</td>\n",
              "      <td>0.690280</td>\n",
              "      <td>0.605505</td>\n",
              "    </tr>\n",
              "    <tr>\n",
              "      <th>15</th>\n",
              "      <td>LDA MinMax Perc 99.9</td>\n",
              "      <td>0.757986</td>\n",
              "      <td>0.682587</td>\n",
              "      <td>0.601770</td>\n",
              "    </tr>\n",
              "    <tr>\n",
              "      <th>11</th>\n",
              "      <td>Logistic Regression MinMax Perc 99.9</td>\n",
              "      <td>0.757633</td>\n",
              "      <td>0.659509</td>\n",
              "      <td>0.592000</td>\n",
              "    </tr>\n",
              "    <tr>\n",
              "      <th>12</th>\n",
              "      <td>Random Forest MinMax Perc 99.9</td>\n",
              "      <td>0.777456</td>\n",
              "      <td>0.671092</td>\n",
              "      <td>0.576744</td>\n",
              "    </tr>\n",
              "    <tr>\n",
              "      <th>14</th>\n",
              "      <td>KNNeighbors MinMax Perc 99.9</td>\n",
              "      <td>0.717626</td>\n",
              "      <td>0.644496</td>\n",
              "      <td>0.551111</td>\n",
              "    </tr>\n",
              "    <tr>\n",
              "      <th>23</th>\n",
              "      <td>SVC MinMax Dummies Drop</td>\n",
              "      <td>0.759895</td>\n",
              "      <td>0.722142</td>\n",
              "      <td>0.442593</td>\n",
              "    </tr>\n",
              "    <tr>\n",
              "      <th>21</th>\n",
              "      <td>Logistic Regression MinMax Dummies Drop</td>\n",
              "      <td>0.758742</td>\n",
              "      <td>0.702174</td>\n",
              "      <td>0.377618</td>\n",
              "    </tr>\n",
              "    <tr>\n",
              "      <th>25</th>\n",
              "      <td>LDA MinMax Dummies Drop</td>\n",
              "      <td>0.752755</td>\n",
              "      <td>0.627420</td>\n",
              "      <td>0.374226</td>\n",
              "    </tr>\n",
              "    <tr>\n",
              "      <th>24</th>\n",
              "      <td>KNNeighbors MinMax Dummies Drop</td>\n",
              "      <td>0.718099</td>\n",
              "      <td>0.621268</td>\n",
              "      <td>0.360472</td>\n",
              "    </tr>\n",
              "    <tr>\n",
              "      <th>3</th>\n",
              "      <td>SVC MinMax</td>\n",
              "      <td>0.740605</td>\n",
              "      <td>0.695013</td>\n",
              "      <td>0.357516</td>\n",
              "    </tr>\n",
              "    <tr>\n",
              "      <th>22</th>\n",
              "      <td>Random Forest MinMax Dummies Drop</td>\n",
              "      <td>0.757266</td>\n",
              "      <td>0.619993</td>\n",
              "      <td>0.355311</td>\n",
              "    </tr>\n",
              "    <tr>\n",
              "      <th>1</th>\n",
              "      <td>Logistic Regression MinMax</td>\n",
              "      <td>0.718197</td>\n",
              "      <td>0.664755</td>\n",
              "      <td>0.308879</td>\n",
              "    </tr>\n",
              "    <tr>\n",
              "      <th>2</th>\n",
              "      <td>Random Forest MinMax</td>\n",
              "      <td>0.779734</td>\n",
              "      <td>0.588948</td>\n",
              "      <td>0.294585</td>\n",
              "    </tr>\n",
              "    <tr>\n",
              "      <th>4</th>\n",
              "      <td>KNNeighbors MinMax</td>\n",
              "      <td>0.672650</td>\n",
              "      <td>0.588215</td>\n",
              "      <td>0.289636</td>\n",
              "    </tr>\n",
              "    <tr>\n",
              "      <th>0</th>\n",
              "      <td>Baseline</td>\n",
              "      <td>0.499258</td>\n",
              "      <td>0.504984</td>\n",
              "      <td>0.126582</td>\n",
              "    </tr>\n",
              "    <tr>\n",
              "      <th>5</th>\n",
              "      <td>LDA MinMax</td>\n",
              "      <td>0.713488</td>\n",
              "      <td>0.511457</td>\n",
              "      <td>0.050542</td>\n",
              "    </tr>\n",
              "  </tbody>\n",
              "</table>\n",
              "</div>"
            ],
            "text/plain": [
              "                                         model  ...   f1 test\n",
              "20                  LDA MinMax Perc 99.99 Drop  ...  0.705394\n",
              "18                  SVC MinMax Perc 99.99 Drop  ...  0.703390\n",
              "8                        SVC MinMax Perc 99.99  ...  0.697479\n",
              "7              Random Forest MinMax Perc 99.99  ...  0.691983\n",
              "10                       LDA MinMax Perc 99.99  ...  0.691358\n",
              "17        Random Forest MinMax Perc 99.99 Drop  ...  0.686441\n",
              "6        Logistic Regression MinMax Perc 99.99  ...  0.674157\n",
              "16  Logistic Regression MinMax Perc 99.99 Drop  ...  0.666667\n",
              "19          KNNeighbors MinMax Perc 99.99 Drop  ...  0.649573\n",
              "9                KNNeighbors MinMax Perc 99.99  ...  0.632035\n",
              "13                        SVC MinMax Perc 99.9  ...  0.605505\n",
              "15                        LDA MinMax Perc 99.9  ...  0.601770\n",
              "11        Logistic Regression MinMax Perc 99.9  ...  0.592000\n",
              "12              Random Forest MinMax Perc 99.9  ...  0.576744\n",
              "14                KNNeighbors MinMax Perc 99.9  ...  0.551111\n",
              "23                     SVC MinMax Dummies Drop  ...  0.442593\n",
              "21     Logistic Regression MinMax Dummies Drop  ...  0.377618\n",
              "25                     LDA MinMax Dummies Drop  ...  0.374226\n",
              "24             KNNeighbors MinMax Dummies Drop  ...  0.360472\n",
              "3                                   SVC MinMax  ...  0.357516\n",
              "22           Random Forest MinMax Dummies Drop  ...  0.355311\n",
              "1                   Logistic Regression MinMax  ...  0.308879\n",
              "2                         Random Forest MinMax  ...  0.294585\n",
              "4                           KNNeighbors MinMax  ...  0.289636\n",
              "0                                     Baseline  ...  0.126582\n",
              "5                                   LDA MinMax  ...  0.050542\n",
              "\n",
              "[26 rows x 4 columns]"
            ]
          },
          "metadata": {},
          "execution_count": 46
        }
      ]
    },
    {
      "cell_type": "markdown",
      "metadata": {
        "id": "07Ipg7B0MZdW"
      },
      "source": [
        "### Matriz de confusion del mejor modelo"
      ]
    },
    {
      "cell_type": "code",
      "metadata": {
        "id": "HDU0ayMkJrvv",
        "colab": {
          "base_uri": "https://localhost:8080/",
          "height": 291
        },
        "outputId": "6012442b-1e30-4dfb-ecf4-1483680f0b14"
      },
      "source": [
        "cm = confusion_matrix(ytests['LDA MinMax Perc 99.99 Drop'], ypreds['LDA MinMax Perc 99.99 Drop'])\n",
        "df_cm = pd.DataFrame(cm, index = ['no', 'yes'], columns = ['no', 'yes'])\n",
        "\n",
        "sns.heatmap(df_cm, annot=True)\n",
        "plt.xlabel('Predicted') # x-axis label with fontsize 15\n",
        "plt.ylabel('Target') # y-axis label with fontsize 15\n",
        "plt.show()"
      ],
      "execution_count": 57,
      "outputs": [
        {
          "output_type": "display_data",
          "data": {
            "image/png": "[encoded data removed]",
            "text/plain": [
              "<Figure size 432x288 with 2 Axes>"
            ]
          },
          "metadata": {
            "needs_background": "light"
          }
        }
      ]
    }
  ]
}